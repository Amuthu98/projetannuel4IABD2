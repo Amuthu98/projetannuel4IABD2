{
 "cells": [
  {
   "cell_type": "code",
   "execution_count": 1,
   "metadata": {},
   "outputs": [],
   "source": [
    "import pandas as pd\n",
    "import matplotlib.pyplot as plt\n",
    "import numpy as np\n",
    "import json\n",
    "import urllib.request"
   ]
  },
  {
   "cell_type": "code",
   "execution_count": 2,
   "metadata": {},
   "outputs": [],
   "source": [
    "df_equipes=pd.DataFrame()\n",
    "df_points=pd.DataFrame()"
   ]
  },
  {
   "cell_type": "markdown",
   "metadata": {},
   "source": [
    "## Nettoyage du html pour récupérer les noms et les scores"
   ]
  },
  {
   "cell_type": "code",
   "execution_count": 3,
   "metadata": {},
   "outputs": [],
   "source": [
    "def recup(equipe,points):\n",
    "    liste_pts=[]\n",
    "    liste_equipe=[]\n",
    "    for row in points:\n",
    "        val=row.text\n",
    "        val=val.replace(\" \",\"\")\n",
    "        val=val.replace(\"\\r\",\"\")\n",
    "        val=val.replace(\"\\n\",\"\")\n",
    "        liste_pts.append(int(val))\n",
    "    \n",
    "    for row in equipe:\n",
    "    \n",
    "        val=row.text\n",
    "        val=val.replace(\" \",\"\")\n",
    "        val=val.replace(\"\\r\",\"\")\n",
    "        val=val.replace(\"\\n\",\"\")\n",
    "        if val !='City':\n",
    "            liste_equipe.append(val)\n",
    "    \n",
    "    return liste_equipe,liste_pts"
   ]
  },
  {
   "cell_type": "markdown",
   "metadata": {},
   "source": [
    "## Parcours du html du site"
   ]
  },
  {
   "cell_type": "code",
   "execution_count": 4,
   "metadata": {},
   "outputs": [],
   "source": [
    "from bs4 import BeautifulSoup\n",
    "import re\n",
    "semaine=\"52\"\n",
    "annee=\"2014\"\n",
    "index=0\n",
    "while (index <= 900):\n",
    "    # L'index représente le nombre d'équipes (le classement)\n",
    "    #url = \"https://www.clubworldranking.com/francais/classement-clubs/wd/\"+semaine+\"/yr/\"+annee+\"/index/\"+str(index)\n",
    "    url = \"https://www.clubworldranking.com/ranking-clubs/wd/\"+semaine+\"/yr/\"+annee+\"/index/\"+str(index)\n",
    "\n",
    "    html = urllib.request.urlopen(url)\n",
    "\n",
    "    soup = BeautifulSoup(html, 'lxml')\n",
    "\n",
    "    points= soup.find_all(\"div\", {\"class\":\"points RankingRight\"})\n",
    "    equipe= soup.find_all(\"div\", {\"class\":\"col-name lineheigt\"})\n",
    "    \n",
    "    liste_eq,liste_pts=recup(equipe,points)\n",
    "    df_eq=pd.DataFrame(liste_eq)\n",
    "    df_eq.columns=[\"Equipe\"]\n",
    "    df_pts=pd.DataFrame(liste_pts)\n",
    "    df_pts.columns=[\"Points\"]\n",
    "    \n",
    "    df_equipes=pd.concat([df_equipes,df_eq])\n",
    "    df_points=pd.concat([df_points,df_pts])\n",
    "    \n",
    "    # Une page du site possède 25 équipe à la fois\n",
    "    index=index+25\n",
    "    \n",
    "    "
   ]
  },
  {
   "cell_type": "code",
   "execution_count": 5,
   "metadata": {},
   "outputs": [
    {
     "data": {
      "text/html": [
       "<div>\n",
       "<style scoped>\n",
       "    .dataframe tbody tr th:only-of-type {\n",
       "        vertical-align: middle;\n",
       "    }\n",
       "\n",
       "    .dataframe tbody tr th {\n",
       "        vertical-align: top;\n",
       "    }\n",
       "\n",
       "    .dataframe thead th {\n",
       "        text-align: right;\n",
       "    }\n",
       "</style>\n",
       "<table border=\"1\" class=\"dataframe\">\n",
       "  <thead>\n",
       "    <tr style=\"text-align: right;\">\n",
       "      <th></th>\n",
       "      <th>Equipe</th>\n",
       "      <th>Points</th>\n",
       "    </tr>\n",
       "  </thead>\n",
       "  <tbody>\n",
       "    <tr>\n",
       "      <td>0</td>\n",
       "      <td>RealMadrid</td>\n",
       "      <td>20082</td>\n",
       "    </tr>\n",
       "    <tr>\n",
       "      <td>1</td>\n",
       "      <td>BayernMünchen</td>\n",
       "      <td>14813</td>\n",
       "    </tr>\n",
       "    <tr>\n",
       "      <td>2</td>\n",
       "      <td>AtléticoMadrid</td>\n",
       "      <td>14705</td>\n",
       "    </tr>\n",
       "    <tr>\n",
       "      <td>3</td>\n",
       "      <td>Barcelona</td>\n",
       "      <td>14422</td>\n",
       "    </tr>\n",
       "    <tr>\n",
       "      <td>4</td>\n",
       "      <td>Benfica</td>\n",
       "      <td>11177</td>\n",
       "    </tr>\n",
       "  </tbody>\n",
       "</table>\n",
       "</div>"
      ],
      "text/plain": [
       "           Equipe  Points\n",
       "0      RealMadrid   20082\n",
       "1   BayernMünchen   14813\n",
       "2  AtléticoMadrid   14705\n",
       "3       Barcelona   14422\n",
       "4         Benfica   11177"
      ]
     },
     "execution_count": 5,
     "metadata": {},
     "output_type": "execute_result"
    }
   ],
   "source": [
    "df=pd.concat([df_equipes,df_points],axis=1)\n",
    "df2=pd.DataFrame()\n",
    "df2=df2.append(df,ignore_index=True)\n",
    "df2.head()"
   ]
  },
  {
   "cell_type": "markdown",
   "metadata": {},
   "source": [
    "## Enregistrement"
   ]
  },
  {
   "cell_type": "code",
   "execution_count": 6,
   "metadata": {},
   "outputs": [],
   "source": [
    "df2.to_csv(r\"Points_Equipe_Hist/Points_Equipes\"+annee+\".csv\", sep=\";\", encoding='utf-8')"
   ]
  }
 ],
 "metadata": {
  "kernelspec": {
   "display_name": "Python 3",
   "language": "python",
   "name": "python3"
  },
  "language_info": {
   "codemirror_mode": {
    "name": "ipython",
    "version": 3
   },
   "file_extension": ".py",
   "mimetype": "text/x-python",
   "name": "python",
   "nbconvert_exporter": "python",
   "pygments_lexer": "ipython3",
   "version": "3.7.4"
  }
 },
 "nbformat": 4,
 "nbformat_minor": 2
}
