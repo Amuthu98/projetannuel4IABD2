{
 "cells": [
  {
   "cell_type": "code",
<<<<<<< HEAD
<<<<<<< HEAD
   "execution_count": 2,
=======
   "execution_count": 172,
>>>>>>> 5874941485de1353c1b1242480cd3eb64d0cbc92
=======
   "execution_count": 172,
>>>>>>> 863ffaac2d585b606d8a962623752a1cce16fafb
   "metadata": {},
   "outputs": [],
   "source": [
    "from tensorflow.keras.layers import *\n",
    "from tensorflow.keras.activations import *\n",
    "from tensorflow.keras.optimizers import *\n",
    "from tensorflow.keras.losses import *\n",
    "from tensorflow.keras.metrics import *\n",
    "from tensorflow.keras.initializers import *\n",
    "from tensorflow.keras.utils import *\n",
    "from tensorflow.keras.models import *\n",
    "from tensorflow.keras.datasets import *\n",
    "import tensorflow.keras as keras\n",
    "import matplotlib.pyplot as plt\n",
    "import tensorflow as tf\n",
    "import numpy as np\n",
    "import datetime\n",
    "import os\n",
    "import csv\n",
    "import pandas as pd\n",
    "from PIL import Image\n",
    "from matplotlib import image\n",
    "from sklearn.model_selection import train_test_split\n",
    "from sklearn.preprocessing import StandardScaler\n",
    "from tensorflow.keras import optimizers\n",
    "from tensorflow.keras.callbacks import ModelCheckpoint,ReduceLROnPlateau\n"
   ]
  },
  {
   "cell_type": "markdown",
   "metadata": {},
   "source": [
    "Machine d'Amrta"
   ]
  },
  {
   "cell_type": "code",
   "execution_count": 175,
   "metadata": {},
   "outputs": [],
   "source": [
    "filename = \"C:\\\\Users\\\\Amrta\\\\Documents\\\\GitHub\\\\projetannuel4IABD2\\\\ETAPE_3\\\\Scripts_Recup_Data\\\\Projet_Annuel_Data\\\\Data_Train_Foot.csv\"\n",
    "filename_test= 'C:\\\\Users\\\\Amrta\\\\Documents\\\\GitHub\\\\projetannuel4IABD2\\\\ETAPE_3\\\\Scripts_Recup_Data\\\\Projet_Annuel_Data\\\\Data_Test_Foot.csv'"
   ]
  },
  {
   "cell_type": "markdown",
   "metadata": {},
   "source": [
    "Machine de Dylane"
   ]
  },
  {
   "cell_type": "code",
<<<<<<< HEAD
<<<<<<< HEAD
   "execution_count": 3,
=======
   "execution_count": 174,
>>>>>>> 5874941485de1353c1b1242480cd3eb64d0cbc92
=======
   "execution_count": 174,
>>>>>>> 863ffaac2d585b606d8a962623752a1cce16fafb
   "metadata": {},
   "outputs": [],
   "source": [
    "filename = 'Scripts_Recup_Data/Projet_Annuel_Data/Data_Train_Foot.csv'\n",
    "filename_test= 'Scripts_Recup_Data/Projet_Annuel_Data/Data_Test_Foot.csv'"
   ]
  },
  {
   "cell_type": "code",
<<<<<<< HEAD
<<<<<<< HEAD
   "execution_count": 4,
=======
   "execution_count": 176,
>>>>>>> 5874941485de1353c1b1242480cd3eb64d0cbc92
=======
   "execution_count": 176,
>>>>>>> 863ffaac2d585b606d8a962623752a1cce16fafb
   "metadata": {},
   "outputs": [
    {
     "data": {
      "text/html": [
       "<div>\n",
       "<style scoped>\n",
       "    .dataframe tbody tr th:only-of-type {\n",
       "        vertical-align: middle;\n",
       "    }\n",
       "\n",
       "    .dataframe tbody tr th {\n",
       "        vertical-align: top;\n",
       "    }\n",
       "\n",
       "    .dataframe thead th {\n",
       "        text-align: right;\n",
       "    }\n",
       "</style>\n",
       "<table border=\"1\" class=\"dataframe\">\n",
       "  <thead>\n",
       "    <tr style=\"text-align: right;\">\n",
       "      <th></th>\n",
       "      <th>date</th>\n",
       "      <th>homeTeam</th>\n",
       "      <th>awayTeam</th>\n",
       "      <th>score</th>\n",
       "      <th>mi_temps_gagnante</th>\n",
       "      <th>goalHomeTeam_FullTime</th>\n",
       "      <th>goalAwayTeam_FullTime</th>\n",
       "      <th>goalHomeTeam_HalfTime</th>\n",
       "      <th>goalAwayTeam_HalfTime</th>\n",
       "      <th>NbgoalsHalfTime</th>\n",
       "      <th>...</th>\n",
       "      <th>moy_goals_home</th>\n",
       "      <th>moy_goals_away</th>\n",
       "      <th>moy_goals_half_home</th>\n",
       "      <th>moy_goals_half_away</th>\n",
       "      <th>moy_goals_conceded_home</th>\n",
       "      <th>moy_goals_conceded_away</th>\n",
       "      <th>moy_goals_conceded_half_home</th>\n",
       "      <th>moy_goals_conceded_half_away</th>\n",
       "      <th>puissance_HomeTeam</th>\n",
       "      <th>puissance_AwayTeam</th>\n",
       "    </tr>\n",
       "  </thead>\n",
       "  <tbody>\n",
       "    <tr>\n",
       "      <td>0</td>\n",
       "      <td>2019-08-09 00:00:00</td>\n",
       "      <td>AS Monaco FC</td>\n",
       "      <td>Olympique Lyonnais</td>\n",
       "      <td>2.0</td>\n",
       "      <td>1</td>\n",
       "      <td>0.0</td>\n",
       "      <td>3.0</td>\n",
       "      <td>0.0</td>\n",
       "      <td>2.0</td>\n",
       "      <td>2.0</td>\n",
       "      <td>...</td>\n",
       "      <td>0.0</td>\n",
       "      <td>0.0</td>\n",
       "      <td>0.0</td>\n",
       "      <td>0.0</td>\n",
       "      <td>0.0</td>\n",
       "      <td>0.0</td>\n",
       "      <td>0.0</td>\n",
       "      <td>0.0</td>\n",
       "      <td>2409</td>\n",
       "      <td>6154</td>\n",
       "    </tr>\n",
       "    <tr>\n",
       "      <td>1</td>\n",
       "      <td>2019-08-10 00:00:00</td>\n",
       "      <td>Olympique de Marseille</td>\n",
       "      <td>Stade de Reims</td>\n",
       "      <td>2.0</td>\n",
       "      <td>2</td>\n",
       "      <td>0.0</td>\n",
       "      <td>2.0</td>\n",
       "      <td>0.0</td>\n",
       "      <td>0.0</td>\n",
       "      <td>0.0</td>\n",
       "      <td>...</td>\n",
       "      <td>0.0</td>\n",
       "      <td>0.0</td>\n",
       "      <td>0.0</td>\n",
       "      <td>0.0</td>\n",
       "      <td>0.0</td>\n",
       "      <td>0.0</td>\n",
       "      <td>0.0</td>\n",
       "      <td>0.0</td>\n",
       "      <td>4008</td>\n",
       "      <td>3054</td>\n",
       "    </tr>\n",
       "    <tr>\n",
       "      <td>2</td>\n",
       "      <td>2019-08-10 00:00:00</td>\n",
       "      <td>Montpellier HSC</td>\n",
       "      <td>Stade Rennais FC 1901</td>\n",
       "      <td>2.0</td>\n",
       "      <td>1</td>\n",
       "      <td>0.0</td>\n",
       "      <td>1.0</td>\n",
       "      <td>0.0</td>\n",
       "      <td>1.0</td>\n",
       "      <td>1.0</td>\n",
       "      <td>...</td>\n",
       "      <td>0.0</td>\n",
       "      <td>0.0</td>\n",
       "      <td>0.0</td>\n",
       "      <td>0.0</td>\n",
       "      <td>0.0</td>\n",
       "      <td>0.0</td>\n",
       "      <td>0.0</td>\n",
       "      <td>0.0</td>\n",
       "      <td>3029</td>\n",
       "      <td>4815</td>\n",
       "    </tr>\n",
       "    <tr>\n",
       "      <td>3</td>\n",
       "      <td>2019-08-10 00:00:00</td>\n",
       "      <td>OGC Nice</td>\n",
       "      <td>Amiens SC</td>\n",
       "      <td>1.0</td>\n",
       "      <td>2</td>\n",
       "      <td>2.0</td>\n",
       "      <td>1.0</td>\n",
       "      <td>1.0</td>\n",
       "      <td>0.0</td>\n",
       "      <td>1.0</td>\n",
       "      <td>...</td>\n",
       "      <td>0.0</td>\n",
       "      <td>0.0</td>\n",
       "      <td>0.0</td>\n",
       "      <td>0.0</td>\n",
       "      <td>0.0</td>\n",
       "      <td>0.0</td>\n",
       "      <td>0.0</td>\n",
       "      <td>0.0</td>\n",
       "      <td>2803</td>\n",
       "      <td>2045</td>\n",
       "    </tr>\n",
       "    <tr>\n",
       "      <td>4</td>\n",
       "      <td>2019-08-10 00:00:00</td>\n",
       "      <td>Stade Brestois 29</td>\n",
       "      <td>Toulouse FC</td>\n",
       "      <td>0.0</td>\n",
       "      <td>1</td>\n",
       "      <td>1.0</td>\n",
       "      <td>1.0</td>\n",
       "      <td>1.0</td>\n",
       "      <td>0.0</td>\n",
       "      <td>1.0</td>\n",
       "      <td>...</td>\n",
       "      <td>0.0</td>\n",
       "      <td>0.0</td>\n",
       "      <td>0.0</td>\n",
       "      <td>0.0</td>\n",
       "      <td>0.0</td>\n",
       "      <td>0.0</td>\n",
       "      <td>0.0</td>\n",
       "      <td>0.0</td>\n",
       "      <td>2156</td>\n",
       "      <td>1065</td>\n",
       "    </tr>\n",
       "  </tbody>\n",
       "</table>\n",
       "<p>5 rows × 25 columns</p>\n",
       "</div>"
      ],
      "text/plain": [
       "                  date                homeTeam               awayTeam  score  \\\n",
       "0  2019-08-09 00:00:00            AS Monaco FC     Olympique Lyonnais    2.0   \n",
       "1  2019-08-10 00:00:00  Olympique de Marseille         Stade de Reims    2.0   \n",
       "2  2019-08-10 00:00:00         Montpellier HSC  Stade Rennais FC 1901    2.0   \n",
       "3  2019-08-10 00:00:00                OGC Nice              Amiens SC    1.0   \n",
       "4  2019-08-10 00:00:00       Stade Brestois 29            Toulouse FC    0.0   \n",
       "\n",
       "   mi_temps_gagnante  goalHomeTeam_FullTime  goalAwayTeam_FullTime  \\\n",
       "0                  1                    0.0                    3.0   \n",
       "1                  2                    0.0                    2.0   \n",
       "2                  1                    0.0                    1.0   \n",
       "3                  2                    2.0                    1.0   \n",
       "4                  1                    1.0                    1.0   \n",
       "\n",
       "   goalHomeTeam_HalfTime  goalAwayTeam_HalfTime  NbgoalsHalfTime  ...  \\\n",
       "0                    0.0                    2.0              2.0  ...   \n",
       "1                    0.0                    0.0              0.0  ...   \n",
       "2                    0.0                    1.0              1.0  ...   \n",
       "3                    1.0                    0.0              1.0  ...   \n",
       "4                    1.0                    0.0              1.0  ...   \n",
       "\n",
       "   moy_goals_home  moy_goals_away  moy_goals_half_home  moy_goals_half_away  \\\n",
       "0             0.0             0.0                  0.0                  0.0   \n",
       "1             0.0             0.0                  0.0                  0.0   \n",
       "2             0.0             0.0                  0.0                  0.0   \n",
       "3             0.0             0.0                  0.0                  0.0   \n",
       "4             0.0             0.0                  0.0                  0.0   \n",
       "\n",
       "   moy_goals_conceded_home  moy_goals_conceded_away  \\\n",
       "0                      0.0                      0.0   \n",
       "1                      0.0                      0.0   \n",
       "2                      0.0                      0.0   \n",
       "3                      0.0                      0.0   \n",
       "4                      0.0                      0.0   \n",
       "\n",
       "   moy_goals_conceded_half_home  moy_goals_conceded_half_away  \\\n",
       "0                           0.0                           0.0   \n",
       "1                           0.0                           0.0   \n",
       "2                           0.0                           0.0   \n",
       "3                           0.0                           0.0   \n",
       "4                           0.0                           0.0   \n",
       "\n",
       "   puissance_HomeTeam  puissance_AwayTeam  \n",
       "0                2409                6154  \n",
       "1                4008                3054  \n",
       "2                3029                4815  \n",
       "3                2803                2045  \n",
       "4                2156                1065  \n",
       "\n",
       "[5 rows x 25 columns]"
      ]
     },
<<<<<<< HEAD
<<<<<<< HEAD
     "execution_count": 4,
=======
     "execution_count": 176,
>>>>>>> 5874941485de1353c1b1242480cd3eb64d0cbc92
=======
     "execution_count": 176,
>>>>>>> 863ffaac2d585b606d8a962623752a1cce16fafb
     "metadata": {},
     "output_type": "execute_result"
    }
   ],
   "source": [
    "# Chargement des données csv\n",
    "\n",
    "data= pd.read_csv(filename,sep=\";\",index_col=0)\n",
    "\n",
    "# y prend le score à prédire\n",
    "y=data.score\n",
    "data.head()\n"
   ]
  },
  {
   "cell_type": "markdown",
   "metadata": {},
   "source": [
    "## Avec les win/lose cons"
   ]
  },
  {
   "cell_type": "code",
   "execution_count": 177,
   "metadata": {},
   "outputs": [
    {
     "data": {
      "text/html": [
       "<div>\n",
       "<style scoped>\n",
       "    .dataframe tbody tr th:only-of-type {\n",
       "        vertical-align: middle;\n",
       "    }\n",
       "\n",
       "    .dataframe tbody tr th {\n",
       "        vertical-align: top;\n",
       "    }\n",
       "\n",
       "    .dataframe thead th {\n",
       "        text-align: right;\n",
       "    }\n",
       "</style>\n",
       "<table border=\"1\" class=\"dataframe\">\n",
       "  <thead>\n",
       "    <tr style=\"text-align: right;\">\n",
       "      <th></th>\n",
       "      <th>puissance_HomeTeam</th>\n",
       "      <th>puissance_AwayTeam</th>\n",
       "      <th>win_cons_home</th>\n",
       "      <th>win_cons_away</th>\n",
       "      <th>lose_cons_home</th>\n",
       "      <th>lose_cons_away</th>\n",
       "      <th>moy_goals_home</th>\n",
       "      <th>moy_goals_away</th>\n",
       "      <th>moy_goals_half_home</th>\n",
       "      <th>moy_goals_half_away</th>\n",
       "      <th>moy_goals_conceded_home</th>\n",
       "      <th>moy_goals_conceded_away</th>\n",
       "      <th>moy_goals_conceded_half_home</th>\n",
       "      <th>moy_goals_conceded_half_away</th>\n",
       "    </tr>\n",
       "  </thead>\n",
       "  <tbody>\n",
       "    <tr>\n",
       "      <td>0</td>\n",
       "      <td>2409</td>\n",
       "      <td>6154</td>\n",
       "      <td>0</td>\n",
       "      <td>0</td>\n",
       "      <td>0</td>\n",
       "      <td>0</td>\n",
       "      <td>0.000000</td>\n",
       "      <td>0.000000</td>\n",
       "      <td>0.000000</td>\n",
       "      <td>0.000000</td>\n",
       "      <td>0.000000</td>\n",
       "      <td>0.000000</td>\n",
       "      <td>0.000000</td>\n",
       "      <td>0.000000</td>\n",
       "    </tr>\n",
       "    <tr>\n",
       "      <td>1</td>\n",
       "      <td>4008</td>\n",
       "      <td>3054</td>\n",
       "      <td>0</td>\n",
       "      <td>0</td>\n",
       "      <td>0</td>\n",
       "      <td>0</td>\n",
       "      <td>0.000000</td>\n",
       "      <td>0.000000</td>\n",
       "      <td>0.000000</td>\n",
       "      <td>0.000000</td>\n",
       "      <td>0.000000</td>\n",
       "      <td>0.000000</td>\n",
       "      <td>0.000000</td>\n",
       "      <td>0.000000</td>\n",
       "    </tr>\n",
       "    <tr>\n",
       "      <td>2</td>\n",
       "      <td>3029</td>\n",
       "      <td>4815</td>\n",
       "      <td>0</td>\n",
       "      <td>0</td>\n",
       "      <td>0</td>\n",
       "      <td>0</td>\n",
       "      <td>0.000000</td>\n",
       "      <td>0.000000</td>\n",
       "      <td>0.000000</td>\n",
       "      <td>0.000000</td>\n",
       "      <td>0.000000</td>\n",
       "      <td>0.000000</td>\n",
       "      <td>0.000000</td>\n",
       "      <td>0.000000</td>\n",
       "    </tr>\n",
       "    <tr>\n",
       "      <td>3</td>\n",
       "      <td>2803</td>\n",
       "      <td>2045</td>\n",
       "      <td>0</td>\n",
       "      <td>0</td>\n",
       "      <td>0</td>\n",
       "      <td>0</td>\n",
       "      <td>0.000000</td>\n",
       "      <td>0.000000</td>\n",
       "      <td>0.000000</td>\n",
       "      <td>0.000000</td>\n",
       "      <td>0.000000</td>\n",
       "      <td>0.000000</td>\n",
       "      <td>0.000000</td>\n",
       "      <td>0.000000</td>\n",
       "    </tr>\n",
       "    <tr>\n",
       "      <td>4</td>\n",
       "      <td>2156</td>\n",
       "      <td>1065</td>\n",
       "      <td>0</td>\n",
       "      <td>0</td>\n",
       "      <td>0</td>\n",
       "      <td>0</td>\n",
       "      <td>0.000000</td>\n",
       "      <td>0.000000</td>\n",
       "      <td>0.000000</td>\n",
       "      <td>0.000000</td>\n",
       "      <td>0.000000</td>\n",
       "      <td>0.000000</td>\n",
       "      <td>0.000000</td>\n",
       "      <td>0.000000</td>\n",
       "    </tr>\n",
       "    <tr>\n",
       "      <td>...</td>\n",
       "      <td>...</td>\n",
       "      <td>...</td>\n",
       "      <td>...</td>\n",
       "      <td>...</td>\n",
       "      <td>...</td>\n",
       "      <td>...</td>\n",
       "      <td>...</td>\n",
       "      <td>...</td>\n",
       "      <td>...</td>\n",
       "      <td>...</td>\n",
       "      <td>...</td>\n",
       "      <td>...</td>\n",
       "      <td>...</td>\n",
       "      <td>...</td>\n",
       "    </tr>\n",
       "    <tr>\n",
       "      <td>375</td>\n",
       "      <td>5198</td>\n",
       "      <td>10169</td>\n",
       "      <td>2</td>\n",
<<<<<<< HEAD
       "      <td>0</td>\n",
       "      <td>0</td>\n",
       "      <td>0</td>\n",
=======
       "      <td>0</td>\n",
       "      <td>0</td>\n",
       "      <td>0</td>\n",
>>>>>>> 863ffaac2d585b606d8a962623752a1cce16fafb
       "      <td>1.139073</td>\n",
       "      <td>1.678414</td>\n",
       "      <td>0.437086</td>\n",
       "      <td>0.678414</td>\n",
       "      <td>1.140969</td>\n",
       "      <td>0.660793</td>\n",
       "      <td>0.471366</td>\n",
       "      <td>0.229075</td>\n",
       "    </tr>\n",
       "    <tr>\n",
       "      <td>376</td>\n",
       "      <td>9335</td>\n",
       "      <td>6881</td>\n",
       "      <td>0</td>\n",
       "      <td>1</td>\n",
       "      <td>0</td>\n",
       "      <td>0</td>\n",
       "      <td>1.625551</td>\n",
       "      <td>1.268722</td>\n",
       "      <td>0.651982</td>\n",
       "      <td>0.590308</td>\n",
       "      <td>1.312775</td>\n",
       "      <td>1.162996</td>\n",
       "      <td>0.603524</td>\n",
       "      <td>0.519824</td>\n",
       "    </tr>\n",
       "    <tr>\n",
       "      <td>377</td>\n",
       "      <td>4109</td>\n",
       "      <td>12990</td>\n",
       "      <td>2</td>\n",
       "      <td>2</td>\n",
       "      <td>0</td>\n",
       "      <td>0</td>\n",
       "      <td>0.864865</td>\n",
       "      <td>1.506608</td>\n",
       "      <td>0.297297</td>\n",
       "      <td>0.722467</td>\n",
       "      <td>0.215859</td>\n",
       "      <td>1.246696</td>\n",
       "      <td>0.088106</td>\n",
       "      <td>0.533040</td>\n",
       "    </tr>\n",
       "    <tr>\n",
       "      <td>378</td>\n",
       "      <td>4455</td>\n",
       "      <td>15917</td>\n",
       "      <td>0</td>\n",
       "      <td>1</td>\n",
       "      <td>1</td>\n",
       "      <td>0</td>\n",
       "      <td>1.246696</td>\n",
       "      <td>2.823789</td>\n",
       "      <td>0.572687</td>\n",
       "      <td>1.074890</td>\n",
       "      <td>1.392070</td>\n",
       "      <td>0.823789</td>\n",
       "      <td>0.629956</td>\n",
       "      <td>0.361233</td>\n",
       "    </tr>\n",
       "    <tr>\n",
       "      <td>379</td>\n",
       "      <td>11475</td>\n",
       "      <td>100</td>\n",
       "      <td>0</td>\n",
       "      <td>1</td>\n",
       "      <td>1</td>\n",
       "      <td>0</td>\n",
       "      <td>2.629956</td>\n",
       "      <td>1.153439</td>\n",
       "      <td>1.312775</td>\n",
       "      <td>0.423280</td>\n",
       "      <td>1.280423</td>\n",
       "      <td>1.550265</td>\n",
       "      <td>0.560847</td>\n",
       "      <td>0.640212</td>\n",
       "    </tr>\n",
       "  </tbody>\n",
       "</table>\n",
       "<p>11548 rows × 14 columns</p>\n",
       "</div>"
      ],
      "text/plain": [
       "     puissance_HomeTeam  puissance_AwayTeam  win_cons_home  win_cons_away  \\\n",
       "0                  2409                6154              0              0   \n",
       "1                  4008                3054              0              0   \n",
       "2                  3029                4815              0              0   \n",
       "3                  2803                2045              0              0   \n",
       "4                  2156                1065              0              0   \n",
       "..                  ...                 ...            ...            ...   \n",
       "375                5198               10169              2              0   \n",
       "376                9335                6881              0              1   \n",
       "377                4109               12990              2              2   \n",
       "378                4455               15917              0              1   \n",
       "379               11475                 100              0              1   \n",
       "\n",
       "     lose_cons_home  lose_cons_away  moy_goals_home  moy_goals_away  \\\n",
       "0                 0               0        0.000000        0.000000   \n",
       "1                 0               0        0.000000        0.000000   \n",
       "2                 0               0        0.000000        0.000000   \n",
       "3                 0               0        0.000000        0.000000   \n",
       "4                 0               0        0.000000        0.000000   \n",
       "..              ...             ...             ...             ...   \n",
       "375               0               0        1.139073        1.678414   \n",
       "376               0               0        1.625551        1.268722   \n",
       "377               0               0        0.864865        1.506608   \n",
       "378               1               0        1.246696        2.823789   \n",
       "379               1               0        2.629956        1.153439   \n",
       "\n",
       "     moy_goals_half_home  moy_goals_half_away  moy_goals_conceded_home  \\\n",
       "0               0.000000             0.000000                 0.000000   \n",
       "1               0.000000             0.000000                 0.000000   \n",
       "2               0.000000             0.000000                 0.000000   \n",
       "3               0.000000             0.000000                 0.000000   \n",
       "4               0.000000             0.000000                 0.000000   \n",
       "..                   ...                  ...                      ...   \n",
       "375             0.437086             0.678414                 1.140969   \n",
       "376             0.651982             0.590308                 1.312775   \n",
       "377             0.297297             0.722467                 0.215859   \n",
       "378             0.572687             1.074890                 1.392070   \n",
       "379             1.312775             0.423280                 1.280423   \n",
       "\n",
       "     moy_goals_conceded_away  moy_goals_conceded_half_home  \\\n",
       "0                   0.000000                      0.000000   \n",
       "1                   0.000000                      0.000000   \n",
       "2                   0.000000                      0.000000   \n",
       "3                   0.000000                      0.000000   \n",
       "4                   0.000000                      0.000000   \n",
       "..                       ...                           ...   \n",
       "375                 0.660793                      0.471366   \n",
       "376                 1.162996                      0.603524   \n",
       "377                 1.246696                      0.088106   \n",
       "378                 0.823789                      0.629956   \n",
       "379                 1.550265                      0.560847   \n",
       "\n",
       "     moy_goals_conceded_half_away  \n",
       "0                        0.000000  \n",
       "1                        0.000000  \n",
       "2                        0.000000  \n",
       "3                        0.000000  \n",
       "4                        0.000000  \n",
       "..                            ...  \n",
       "375                      0.229075  \n",
       "376                      0.519824  \n",
       "377                      0.533040  \n",
       "378                      0.361233  \n",
       "379                      0.640212  \n",
       "\n",
       "[11548 rows x 14 columns]"
      ]
     },
     "execution_count": 177,
     "metadata": {},
     "output_type": "execute_result"
    }
   ],
   "source": [
    "x=data[['puissance_HomeTeam','puissance_AwayTeam','win_cons_home','win_cons_away','lose_cons_home',\n",
    "        'lose_cons_away','moy_goals_home','moy_goals_away','moy_goals_half_home','moy_goals_half_away',\n",
    "       'moy_goals_conceded_home','moy_goals_conceded_away','moy_goals_conceded_half_home','moy_goals_conceded_half_away']]\n",
    "x"
   ]
  },
  {
   "cell_type": "code",
   "execution_count": 201,
   "metadata": {},
   "outputs": [
    {
     "data": {
      "text/html": [
       "<div>\n",
       "<style scoped>\n",
       "    .dataframe tbody tr th:only-of-type {\n",
       "        vertical-align: middle;\n",
       "    }\n",
       "\n",
       "    .dataframe tbody tr th {\n",
       "        vertical-align: top;\n",
       "    }\n",
       "\n",
       "    .dataframe thead th {\n",
       "        text-align: right;\n",
       "    }\n",
       "</style>\n",
       "<table border=\"1\" class=\"dataframe\">\n",
       "  <thead>\n",
       "    <tr style=\"text-align: right;\">\n",
       "      <th></th>\n",
       "      <th>puissance_HomeTeam</th>\n",
       "      <th>puissance_AwayTeam</th>\n",
       "      <th>win_cons_home</th>\n",
       "      <th>win_cons_away</th>\n",
       "      <th>lose_cons_home</th>\n",
       "      <th>lose_cons_away</th>\n",
       "      <th>moy_goals_home</th>\n",
       "      <th>moy_goals_away</th>\n",
       "      <th>moy_goals_half_home</th>\n",
       "      <th>moy_goals_half_away</th>\n",
       "      <th>moy_goals_conceded_home</th>\n",
       "      <th>moy_goals_conceded_away</th>\n",
       "      <th>moy_goals_conceded_half_home</th>\n",
       "      <th>moy_goals_conceded_half_away</th>\n",
       "    </tr>\n",
       "  </thead>\n",
       "  <tbody>\n",
       "    <tr>\n",
       "      <td>1424</td>\n",
       "      <td>2679</td>\n",
       "      <td>3086</td>\n",
       "      <td>0</td>\n",
       "      <td>0</td>\n",
       "      <td>1</td>\n",
       "      <td>0</td>\n",
       "      <td>1.214286</td>\n",
       "      <td>1.714286</td>\n",
       "      <td>0.500000</td>\n",
       "      <td>0.750000</td>\n",
       "      <td>1.392857</td>\n",
       "      <td>1.750000</td>\n",
       "      <td>0.535714</td>\n",
       "      <td>0.928571</td>\n",
       "    </tr>\n",
       "    <tr>\n",
       "      <td>1085</td>\n",
       "      <td>8949</td>\n",
       "      <td>5396</td>\n",
       "      <td>0</td>\n",
       "      <td>1</td>\n",
       "      <td>1</td>\n",
       "      <td>0</td>\n",
       "      <td>1.343750</td>\n",
       "      <td>1.593750</td>\n",
       "      <td>0.625000</td>\n",
       "      <td>0.687500</td>\n",
       "      <td>1.625000</td>\n",
       "      <td>1.250000</td>\n",
       "      <td>0.718750</td>\n",
       "      <td>0.343750</td>\n",
       "    </tr>\n",
       "    <tr>\n",
       "      <td>1423</td>\n",
       "      <td>3818</td>\n",
       "      <td>2866</td>\n",
       "      <td>1</td>\n",
       "      <td>2</td>\n",
       "      <td>0</td>\n",
       "      <td>0</td>\n",
       "      <td>1.428571</td>\n",
       "      <td>1.678571</td>\n",
       "      <td>0.535714</td>\n",
       "      <td>0.642857</td>\n",
       "      <td>1.607143</td>\n",
       "      <td>1.571429</td>\n",
       "      <td>0.892857</td>\n",
       "      <td>0.535714</td>\n",
       "    </tr>\n",
       "    <tr>\n",
       "      <td>1983</td>\n",
       "      <td>5314</td>\n",
       "      <td>1346</td>\n",
       "      <td>3</td>\n",
       "      <td>1</td>\n",
       "      <td>0</td>\n",
       "      <td>0</td>\n",
       "      <td>1.607143</td>\n",
       "      <td>1.071429</td>\n",
       "      <td>0.892857</td>\n",
       "      <td>0.428571</td>\n",
       "      <td>1.035714</td>\n",
       "      <td>1.250000</td>\n",
       "      <td>0.428571</td>\n",
       "      <td>0.678571</td>\n",
       "    </tr>\n",
       "    <tr>\n",
       "      <td>1982</td>\n",
       "      <td>1589</td>\n",
       "      <td>1729</td>\n",
       "      <td>0</td>\n",
       "      <td>0</td>\n",
       "      <td>2</td>\n",
       "      <td>2</td>\n",
       "      <td>0.857143</td>\n",
       "      <td>0.821429</td>\n",
       "      <td>0.571429</td>\n",
       "      <td>0.392857</td>\n",
       "      <td>1.571429</td>\n",
       "      <td>1.250000</td>\n",
       "      <td>0.678571</td>\n",
       "      <td>0.750000</td>\n",
       "    </tr>\n",
       "    <tr>\n",
       "      <td>...</td>\n",
       "      <td>...</td>\n",
       "      <td>...</td>\n",
       "      <td>...</td>\n",
       "      <td>...</td>\n",
       "      <td>...</td>\n",
       "      <td>...</td>\n",
       "      <td>...</td>\n",
       "      <td>...</td>\n",
       "      <td>...</td>\n",
       "      <td>...</td>\n",
       "      <td>...</td>\n",
       "      <td>...</td>\n",
       "      <td>...</td>\n",
       "      <td>...</td>\n",
       "    </tr>\n",
       "    <tr>\n",
       "      <td>2024</td>\n",
       "      <td>6562</td>\n",
       "      <td>5314</td>\n",
       "      <td>1</td>\n",
       "      <td>0</td>\n",
       "      <td>0</td>\n",
       "      <td>0</td>\n",
       "      <td>2.000000</td>\n",
       "      <td>1.566667</td>\n",
       "      <td>0.694444</td>\n",
       "      <td>0.866667</td>\n",
       "      <td>1.166667</td>\n",
       "      <td>1.000000</td>\n",
       "      <td>0.433333</td>\n",
       "      <td>0.400000</td>\n",
       "    </tr>\n",
       "    <tr>\n",
       "      <td>2025</td>\n",
       "      <td>3593</td>\n",
       "      <td>1589</td>\n",
       "      <td>0</td>\n",
       "      <td>0</td>\n",
       "      <td>5</td>\n",
       "      <td>1</td>\n",
       "      <td>0.774194</td>\n",
       "      <td>0.833333</td>\n",
       "      <td>0.322581</td>\n",
       "      <td>0.566667</td>\n",
       "      <td>1.366667</td>\n",
       "      <td>1.666667</td>\n",
       "      <td>0.566667</td>\n",
       "      <td>0.700000</td>\n",
       "    </tr>\n",
       "    <tr>\n",
       "      <td>2026</td>\n",
       "      <td>3175</td>\n",
       "      <td>3593</td>\n",
       "      <td>0</td>\n",
       "      <td>2</td>\n",
       "      <td>2</td>\n",
       "      <td>0</td>\n",
       "      <td>0.966667</td>\n",
       "      <td>1.633333</td>\n",
       "      <td>0.400000</td>\n",
       "      <td>0.666667</td>\n",
       "      <td>1.200000</td>\n",
       "      <td>1.066667</td>\n",
       "      <td>0.500000</td>\n",
       "      <td>0.633333</td>\n",
       "    </tr>\n",
       "    <tr>\n",
       "      <td>2027</td>\n",
       "      <td>1067</td>\n",
       "      <td>1159</td>\n",
       "      <td>0</td>\n",
       "      <td>1</td>\n",
       "      <td>2</td>\n",
       "      <td>0</td>\n",
       "      <td>0.806452</td>\n",
       "      <td>0.774194</td>\n",
       "      <td>0.419355</td>\n",
       "      <td>0.483871</td>\n",
       "      <td>1.354839</td>\n",
       "      <td>1.903226</td>\n",
       "      <td>0.612903</td>\n",
       "      <td>0.741935</td>\n",
       "    </tr>\n",
       "    <tr>\n",
       "      <td>2028</td>\n",
       "      <td>2325</td>\n",
       "      <td>100</td>\n",
       "      <td>0</td>\n",
       "      <td>1</td>\n",
       "      <td>2</td>\n",
       "      <td>0</td>\n",
       "      <td>0.806452</td>\n",
       "      <td>1.419355</td>\n",
       "      <td>0.451613</td>\n",
       "      <td>0.741935</td>\n",
       "      <td>1.064516</td>\n",
       "      <td>1.096774</td>\n",
       "      <td>0.548387</td>\n",
       "      <td>0.580645</td>\n",
       "    </tr>\n",
       "  </tbody>\n",
       "</table>\n",
       "<p>264 rows × 14 columns</p>\n",
       "</div>"
      ],
      "text/plain": [
       "      puissance_HomeTeam  puissance_AwayTeam  win_cons_home  win_cons_away  \\\n",
       "1424                2679                3086              0              0   \n",
       "1085                8949                5396              0              1   \n",
       "1423                3818                2866              1              2   \n",
       "1983                5314                1346              3              1   \n",
       "1982                1589                1729              0              0   \n",
       "...                  ...                 ...            ...            ...   \n",
       "2024                6562                5314              1              0   \n",
       "2025                3593                1589              0              0   \n",
       "2026                3175                3593              0              2   \n",
       "2027                1067                1159              0              1   \n",
       "2028                2325                 100              0              1   \n",
       "\n",
       "      lose_cons_home  lose_cons_away  moy_goals_home  moy_goals_away  \\\n",
       "1424               1               0        1.214286        1.714286   \n",
       "1085               1               0        1.343750        1.593750   \n",
       "1423               0               0        1.428571        1.678571   \n",
       "1983               0               0        1.607143        1.071429   \n",
       "1982               2               2        0.857143        0.821429   \n",
       "...              ...             ...             ...             ...   \n",
       "2024               0               0        2.000000        1.566667   \n",
       "2025               5               1        0.774194        0.833333   \n",
       "2026               2               0        0.966667        1.633333   \n",
       "2027               2               0        0.806452        0.774194   \n",
       "2028               2               0        0.806452        1.419355   \n",
       "\n",
       "      moy_goals_half_home  moy_goals_half_away  moy_goals_conceded_home  \\\n",
       "1424             0.500000             0.750000                 1.392857   \n",
       "1085             0.625000             0.687500                 1.625000   \n",
       "1423             0.535714             0.642857                 1.607143   \n",
       "1983             0.892857             0.428571                 1.035714   \n",
       "1982             0.571429             0.392857                 1.571429   \n",
       "...                   ...                  ...                      ...   \n",
       "2024             0.694444             0.866667                 1.166667   \n",
       "2025             0.322581             0.566667                 1.366667   \n",
       "2026             0.400000             0.666667                 1.200000   \n",
       "2027             0.419355             0.483871                 1.354839   \n",
       "2028             0.451613             0.741935                 1.064516   \n",
       "\n",
       "      moy_goals_conceded_away  moy_goals_conceded_half_home  \\\n",
       "1424                 1.750000                      0.535714   \n",
       "1085                 1.250000                      0.718750   \n",
       "1423                 1.571429                      0.892857   \n",
       "1983                 1.250000                      0.428571   \n",
       "1982                 1.250000                      0.678571   \n",
       "...                       ...                           ...   \n",
       "2024                 1.000000                      0.433333   \n",
       "2025                 1.666667                      0.566667   \n",
       "2026                 1.066667                      0.500000   \n",
       "2027                 1.903226                      0.612903   \n",
       "2028                 1.096774                      0.548387   \n",
       "\n",
       "      moy_goals_conceded_half_away  \n",
       "1424                      0.928571  \n",
       "1085                      0.343750  \n",
       "1423                      0.535714  \n",
       "1983                      0.678571  \n",
       "1982                      0.750000  \n",
       "...                            ...  \n",
       "2024                      0.400000  \n",
       "2025                      0.700000  \n",
       "2026                      0.633333  \n",
       "2027                      0.741935  \n",
       "2028                      0.580645  \n",
       "\n",
       "[264 rows x 14 columns]"
      ]
     },
     "execution_count": 201,
     "metadata": {},
     "output_type": "execute_result"
    }
   ],
   "source": [
    "data_test= pd.read_csv(filename_test,sep=\";\",index_col=0)\n",
    "x_prediction=data_test[['puissance_HomeTeam','puissance_AwayTeam','win_cons_home','win_cons_away','lose_cons_home',\n",
    "        'lose_cons_away','moy_goals_home','moy_goals_away','moy_goals_half_home','moy_goals_half_away',\n",
    "       'moy_goals_conceded_home','moy_goals_conceded_away','moy_goals_conceded_half_home','moy_goals_conceded_half_away']]\n",
    "x_prediction"
   ]
  },
  {
   "cell_type": "markdown",
   "metadata": {},
   "source": [
    "### Sans les win/lose/cons et les moyennes half_time plus utiles pour les modèles de predic mi-temps"
   ]
  },
  {
   "cell_type": "code",
<<<<<<< HEAD
<<<<<<< HEAD
   "execution_count": 5,
=======
   "execution_count": 202,
>>>>>>> 5874941485de1353c1b1242480cd3eb64d0cbc92
=======
   "execution_count": 202,
>>>>>>> 863ffaac2d585b606d8a962623752a1cce16fafb
   "metadata": {},
   "outputs": [
    {
     "data": {
      "text/html": [
       "<div>\n",
       "<style scoped>\n",
       "    .dataframe tbody tr th:only-of-type {\n",
       "        vertical-align: middle;\n",
       "    }\n",
       "\n",
       "    .dataframe tbody tr th {\n",
       "        vertical-align: top;\n",
       "    }\n",
       "\n",
       "    .dataframe thead th {\n",
       "        text-align: right;\n",
       "    }\n",
       "</style>\n",
       "<table border=\"1\" class=\"dataframe\">\n",
       "  <thead>\n",
       "    <tr style=\"text-align: right;\">\n",
       "      <th></th>\n",
       "      <th>date</th>\n",
       "      <th>status</th>\n",
       "      <th>homeTeam</th>\n",
       "      <th>awayTeam</th>\n",
       "      <th>id_match</th>\n",
       "      <th>idHomeTeam</th>\n",
       "      <th>idAwayTeam</th>\n",
       "      <th>puissance_HomeTeam</th>\n",
       "      <th>puissance_AwayTeam</th>\n",
       "      <th>moy_goals_home</th>\n",
       "      <th>moy_goals_away</th>\n",
       "      <th>moy_goals_conceded_home</th>\n",
       "      <th>moy_goals_conceded_away</th>\n",
       "    </tr>\n",
       "  </thead>\n",
       "  <tbody>\n",
       "    <tr>\n",
<<<<<<< HEAD
<<<<<<< HEAD
       "      <th>1424</th>\n",
=======
       "      <td>1424</td>\n",
>>>>>>> 5874941485de1353c1b1242480cd3eb64d0cbc92
=======
       "      <td>1424</td>\n",
>>>>>>> 863ffaac2d585b606d8a962623752a1cce16fafb
       "      <td>2020-07-01</td>\n",
       "      <td>FINISHED</td>\n",
       "      <td>ACF Fiorentina</td>\n",
       "      <td>US Sassuolo Calcio</td>\n",
       "      <td>279508</td>\n",
       "      <td>99</td>\n",
       "      <td>471</td>\n",
       "      <td>2679</td>\n",
       "      <td>3086</td>\n",
       "      <td>1.214286</td>\n",
       "      <td>1.714286</td>\n",
       "      <td>1.392857</td>\n",
       "      <td>1.750000</td>\n",
       "    </tr>\n",
       "    <tr>\n",
<<<<<<< HEAD
<<<<<<< HEAD
       "      <th>1085</th>\n",
=======
       "      <td>1085</td>\n",
>>>>>>> 5874941485de1353c1b1242480cd3eb64d0cbc92
=======
       "      <td>1085</td>\n",
>>>>>>> 863ffaac2d585b606d8a962623752a1cce16fafb
       "      <td>2020-07-01</td>\n",
       "      <td>FINISHED</td>\n",
       "      <td>Real Betis Balompié</td>\n",
       "      <td>Villarreal CF</td>\n",
       "      <td>273889</td>\n",
       "      <td>90</td>\n",
       "      <td>94</td>\n",
       "      <td>8949</td>\n",
       "      <td>5396</td>\n",
       "      <td>1.343750</td>\n",
       "      <td>1.593750</td>\n",
       "      <td>1.625000</td>\n",
       "      <td>1.250000</td>\n",
       "    </tr>\n",
       "    <tr>\n",
<<<<<<< HEAD
<<<<<<< HEAD
       "      <th>1423</th>\n",
=======
       "      <td>1423</td>\n",
>>>>>>> 5874941485de1353c1b1242480cd3eb64d0cbc92
=======
       "      <td>1423</td>\n",
>>>>>>> 863ffaac2d585b606d8a962623752a1cce16fafb
       "      <td>2020-07-01</td>\n",
       "      <td>FINISHED</td>\n",
       "      <td>Bologna FC 1909</td>\n",
       "      <td>Cagliari Calcio</td>\n",
       "      <td>279512</td>\n",
       "      <td>103</td>\n",
       "      <td>104</td>\n",
       "      <td>3818</td>\n",
       "      <td>2866</td>\n",
       "      <td>1.428571</td>\n",
       "      <td>1.678571</td>\n",
       "      <td>1.607143</td>\n",
       "      <td>1.571429</td>\n",
       "    </tr>\n",
       "    <tr>\n",
       "      <td>1983</td>\n",
       "      <td>2020-07-01</td>\n",
       "      <td>FINISHED</td>\n",
       "      <td>Sporting Clube de Portugal</td>\n",
       "      <td>Gil Vicente FC</td>\n",
       "      <td>274431</td>\n",
       "      <td>498</td>\n",
       "      <td>5533</td>\n",
       "      <td>5314</td>\n",
       "      <td>1346</td>\n",
       "      <td>1.607143</td>\n",
       "      <td>1.071429</td>\n",
       "      <td>1.035714</td>\n",
       "      <td>1.250000</td>\n",
       "    </tr>\n",
       "    <tr>\n",
<<<<<<< HEAD
<<<<<<< HEAD
       "      <th>1982</th>\n",
=======
       "      <td>1982</td>\n",
>>>>>>> 5874941485de1353c1b1242480cd3eb64d0cbc92
=======
       "      <td>1982</td>\n",
>>>>>>> 863ffaac2d585b606d8a962623752a1cce16fafb
       "      <td>2020-07-01</td>\n",
       "      <td>FINISHED</td>\n",
       "      <td>Os Belenenses Futebol</td>\n",
       "      <td>CD Tondela</td>\n",
       "      <td>274433</td>\n",
       "      <td>5568</td>\n",
       "      <td>1049</td>\n",
       "      <td>1589</td>\n",
       "      <td>1729</td>\n",
       "      <td>0.857143</td>\n",
       "      <td>0.821429</td>\n",
       "      <td>1.571429</td>\n",
       "      <td>1.250000</td>\n",
       "    </tr>\n",
       "    <tr>\n",
       "      <td>...</td>\n",
       "      <td>...</td>\n",
       "      <td>...</td>\n",
       "      <td>...</td>\n",
       "      <td>...</td>\n",
       "      <td>...</td>\n",
       "      <td>...</td>\n",
       "      <td>...</td>\n",
       "      <td>...</td>\n",
       "      <td>...</td>\n",
       "      <td>...</td>\n",
       "      <td>...</td>\n",
       "      <td>...</td>\n",
       "      <td>...</td>\n",
       "    </tr>\n",
       "    <tr>\n",
       "      <td>2024</td>\n",
       "      <td>2020-07-26</td>\n",
       "      <td>SCHEDULED</td>\n",
       "      <td>Sport Lisboa e Benfica</td>\n",
       "      <td>Sporting Clube de Portugal</td>\n",
       "      <td>274477</td>\n",
       "      <td>1903</td>\n",
       "      <td>498</td>\n",
       "      <td>6562</td>\n",
       "      <td>5314</td>\n",
       "      <td>2.000000</td>\n",
       "      <td>1.566667</td>\n",
       "      <td>1.166667</td>\n",
       "      <td>1.000000</td>\n",
       "    </tr>\n",
       "    <tr>\n",
       "      <td>2025</td>\n",
       "      <td>2020-07-26</td>\n",
       "      <td>SCHEDULED</td>\n",
       "      <td>Vitória FC</td>\n",
       "      <td>Os Belenenses Futebol</td>\n",
       "      <td>274478</td>\n",
       "      <td>5620</td>\n",
       "      <td>5568</td>\n",
       "      <td>3593</td>\n",
       "      <td>1589</td>\n",
       "      <td>0.774194</td>\n",
       "      <td>0.833333</td>\n",
       "      <td>1.366667</td>\n",
       "      <td>1.666667</td>\n",
       "    </tr>\n",
       "    <tr>\n",
       "      <td>2026</td>\n",
       "      <td>2020-07-26</td>\n",
       "      <td>SCHEDULED</td>\n",
       "      <td>CD Santa Clara</td>\n",
       "      <td>Vitória SC</td>\n",
       "      <td>274479</td>\n",
       "      <td>5530</td>\n",
       "      <td>5543</td>\n",
       "      <td>3175</td>\n",
       "      <td>3593</td>\n",
       "      <td>0.966667</td>\n",
       "      <td>1.633333</td>\n",
       "      <td>1.200000</td>\n",
       "      <td>1.066667</td>\n",
       "    </tr>\n",
       "    <tr>\n",
       "      <td>2027</td>\n",
       "      <td>2020-07-26</td>\n",
       "      <td>SCHEDULED</td>\n",
       "      <td>Portimonense SC</td>\n",
       "      <td>CD Aves</td>\n",
       "      <td>274480</td>\n",
       "      <td>5601</td>\n",
       "      <td>5544</td>\n",
       "      <td>1067</td>\n",
       "      <td>1159</td>\n",
       "      <td>0.806452</td>\n",
       "      <td>0.774194</td>\n",
       "      <td>1.354839</td>\n",
       "      <td>1.903226</td>\n",
       "    </tr>\n",
       "    <tr>\n",
       "      <td>2028</td>\n",
       "      <td>2020-07-26</td>\n",
       "      <td>SCHEDULED</td>\n",
       "      <td>Boavista FC</td>\n",
       "      <td>Rio Ave FC</td>\n",
       "      <td>274481</td>\n",
       "      <td>810</td>\n",
       "      <td>496</td>\n",
       "      <td>2325</td>\n",
       "      <td>100</td>\n",
       "      <td>0.806452</td>\n",
       "      <td>1.419355</td>\n",
       "      <td>1.064516</td>\n",
       "      <td>1.096774</td>\n",
       "    </tr>\n",
       "  </tbody>\n",
       "</table>\n",
       "<p>264 rows × 13 columns</p>\n",
       "</div>"
      ],
      "text/plain": [
       "            date     status                    homeTeam  \\\n",
       "1424  2020-07-01   FINISHED              ACF Fiorentina   \n",
       "1085  2020-07-01   FINISHED         Real Betis Balompié   \n",
       "1423  2020-07-01   FINISHED             Bologna FC 1909   \n",
       "1983  2020-07-01   FINISHED  Sporting Clube de Portugal   \n",
       "1982  2020-07-01   FINISHED       Os Belenenses Futebol   \n",
       "...          ...        ...                         ...   \n",
       "2024  2020-07-26  SCHEDULED      Sport Lisboa e Benfica   \n",
       "2025  2020-07-26  SCHEDULED                  Vitória FC   \n",
       "2026  2020-07-26  SCHEDULED              CD Santa Clara   \n",
       "2027  2020-07-26  SCHEDULED             Portimonense SC   \n",
       "2028  2020-07-26  SCHEDULED                 Boavista FC   \n",
       "\n",
       "                        awayTeam  id_match  idHomeTeam  idAwayTeam  \\\n",
       "1424          US Sassuolo Calcio    279508          99         471   \n",
       "1085               Villarreal CF    273889          90          94   \n",
       "1423             Cagliari Calcio    279512         103         104   \n",
       "1983              Gil Vicente FC    274431         498        5533   \n",
       "1982                  CD Tondela    274433        5568        1049   \n",
       "...                          ...       ...         ...         ...   \n",
       "2024  Sporting Clube de Portugal    274477        1903         498   \n",
       "2025       Os Belenenses Futebol    274478        5620        5568   \n",
       "2026                  Vitória SC    274479        5530        5543   \n",
       "2027                     CD Aves    274480        5601        5544   \n",
       "2028                  Rio Ave FC    274481         810         496   \n",
       "\n",
       "      puissance_HomeTeam  puissance_AwayTeam  moy_goals_home  moy_goals_away  \\\n",
       "1424                2679                3086        1.214286        1.714286   \n",
       "1085                8949                5396        1.343750        1.593750   \n",
       "1423                3818                2866        1.428571        1.678571   \n",
       "1983                5314                1346        1.607143        1.071429   \n",
       "1982                1589                1729        0.857143        0.821429   \n",
       "...                  ...                 ...             ...             ...   \n",
       "2024                6562                5314        2.000000        1.566667   \n",
       "2025                3593                1589        0.774194        0.833333   \n",
       "2026                3175                3593        0.966667        1.633333   \n",
       "2027                1067                1159        0.806452        0.774194   \n",
       "2028                2325                 100        0.806452        1.419355   \n",
       "\n",
       "      moy_goals_conceded_home  moy_goals_conceded_away  \n",
       "1424                 1.392857                 1.750000  \n",
       "1085                 1.625000                 1.250000  \n",
       "1423                 1.607143                 1.571429  \n",
       "1983                 1.035714                 1.250000  \n",
       "1982                 1.571429                 1.250000  \n",
       "...                       ...                      ...  \n",
       "2024                 1.166667                 1.000000  \n",
       "2025                 1.366667                 1.666667  \n",
       "2026                 1.200000                 1.066667  \n",
       "2027                 1.354839                 1.903226  \n",
       "2028                 1.064516                 1.096774  \n",
       "\n",
       "[264 rows x 13 columns]"
      ]
     },
<<<<<<< HEAD
<<<<<<< HEAD
     "execution_count": 5,
=======
     "execution_count": 202,
>>>>>>> 5874941485de1353c1b1242480cd3eb64d0cbc92
=======
     "execution_count": 202,
>>>>>>> 863ffaac2d585b606d8a962623752a1cce16fafb
     "metadata": {},
     "output_type": "execute_result"
    }
   ],
   "source": [
    "x=data[['puissance_HomeTeam','puissance_AwayTeam','moy_goals_home','moy_goals_away','moy_goals_conceded_home',\n",
    "        'moy_goals_conceded_away']]\n",
    "\n",
    "data_test= pd.read_csv(filename_test,sep=\";\",index_col=0)\n",
    "x_prediction=data_test[['date','status','homeTeam','awayTeam','id_match','idHomeTeam','idAwayTeam',\n",
    "                        'puissance_HomeTeam','puissance_AwayTeam','moy_goals_home','moy_goals_away',\n",
    "                        'moy_goals_conceded_home','moy_goals_conceded_away']]\n",
    "x_prediction"
   ]
  },
  {
   "cell_type": "code",
<<<<<<< HEAD
<<<<<<< HEAD
   "execution_count": 6,
=======
   "execution_count": 203,
>>>>>>> 5874941485de1353c1b1242480cd3eb64d0cbc92
=======
   "execution_count": 203,
>>>>>>> 863ffaac2d585b606d8a962623752a1cce16fafb
   "metadata": {},
   "outputs": [
    {
     "name": "stdout",
     "output_type": "stream",
     "text": [
      "(9238, 6) (9238,)\n"
     ]
    }
   ],
   "source": [
    "x=np.array(x)\n",
    "y=np.array(y)\n",
    "x_train,x_test,y_train,y_test=train_test_split(x,y,test_size=0.2)\n",
    "\n",
    "y_train = y_train.astype(np.int)\n",
    "print(x_train.shape,y_train.shape)\n"
   ]
  },
  {
   "cell_type": "code",
<<<<<<< HEAD
<<<<<<< HEAD
   "execution_count": 7,
=======
   "execution_count": 204,
>>>>>>> 5874941485de1353c1b1242480cd3eb64d0cbc92
=======
   "execution_count": 204,
>>>>>>> 863ffaac2d585b606d8a962623752a1cce16fafb
   "metadata": {},
   "outputs": [
    {
     "data": {
      "text/plain": [
       "3"
      ]
     },
<<<<<<< HEAD
<<<<<<< HEAD
     "execution_count": 7,
=======
     "execution_count": 204,
>>>>>>> 5874941485de1353c1b1242480cd3eb64d0cbc92
=======
     "execution_count": 204,
>>>>>>> 863ffaac2d585b606d8a962623752a1cce16fafb
     "metadata": {},
     "output_type": "execute_result"
    }
   ],
   "source": [
    "classes=np.unique(y_train)\n",
    "nbClasses=len(classes)\n",
    "epochs=200\n",
    "\n",
    "nbClasses\n"
   ]
  },
  {
   "cell_type": "code",
<<<<<<< HEAD
<<<<<<< HEAD
   "execution_count": 8,
=======
   "execution_count": 205,
>>>>>>> 5874941485de1353c1b1242480cd3eb64d0cbc92
=======
   "execution_count": 205,
>>>>>>> 863ffaac2d585b606d8a962623752a1cce16fafb
   "metadata": {},
   "outputs": [
    {
     "data": {
      "text/plain": [
       "6"
      ]
     },
<<<<<<< HEAD
<<<<<<< HEAD
     "execution_count": 8,
=======
     "execution_count": 205,
>>>>>>> 5874941485de1353c1b1242480cd3eb64d0cbc92
=======
     "execution_count": 205,
>>>>>>> 863ffaac2d585b606d8a962623752a1cce16fafb
     "metadata": {},
     "output_type": "execute_result"
    }
   ],
   "source": [
    "x_train.shape[1]"
   ]
  },
  {
   "cell_type": "code",
<<<<<<< HEAD
<<<<<<< HEAD
   "execution_count": 9,
=======
   "execution_count": 206,
>>>>>>> 5874941485de1353c1b1242480cd3eb64d0cbc92
=======
   "execution_count": 206,
>>>>>>> 863ffaac2d585b606d8a962623752a1cce16fafb
   "metadata": {},
   "outputs": [],
   "source": [
    "def create_model():\n",
    "    \n",
    "    model = Sequential()\n",
    "    \n",
    "    model.add(Dense(128, input_dim=x_train.shape[1], activation='relu'))\n",
    "    model.add(Dense(256, input_dim=x_train.shape[1], activation='linear'))\n",
    "    model.add(Dense(512, input_dim=x_train.shape[1], activation='relu'))\n",
    "    model.add(BatchNormalization())\n",
    "    \n",
    "    model.add(Dense(512, input_dim=x_train.shape[1], activation='relu'))\n",
    "    model.add(Dense(256, input_dim=x_train.shape[1], activation='linear'))\n",
    "    model.add(Dense(128, input_dim=x_train.shape[1], activation='relu'))\n",
    "    \n",
    "    model.add(BatchNormalization())\n",
    "    model.add(Dropout(0.05))\n",
    "    \n",
    "    model.add(Dense(3, activation='softmax'))    \n",
    "    model.compile(loss=\"sparse_categorical_crossentropy\",\n",
    "                  optimizer=Adam(),\n",
    "                  metrics=[\"accuracy\"])\n",
    "    return model"
   ]
  },
  {
   "cell_type": "code",
<<<<<<< HEAD
<<<<<<< HEAD
   "execution_count": 10,
=======
   "execution_count": 207,
>>>>>>> 5874941485de1353c1b1242480cd3eb64d0cbc92
=======
   "execution_count": 207,
>>>>>>> 863ffaac2d585b606d8a962623752a1cce16fafb
   "metadata": {},
   "outputs": [
    {
     "name": "stdout",
     "output_type": "stream",
     "text": [
      "Model: \"sequential_10\"\n",
      "_________________________________________________________________\n",
      "Layer (type)                 Output Shape              Param #   \n",
      "=================================================================\n",
      "dense_70 (Dense)             (None, 128)               896       \n",
      "_________________________________________________________________\n",
      "dense_71 (Dense)             (None, 256)               33024     \n",
      "_________________________________________________________________\n",
      "dense_72 (Dense)             (None, 512)               131584    \n",
      "_________________________________________________________________\n",
      "batch_normalization_20 (Batc (None, 512)               2048      \n",
      "_________________________________________________________________\n",
      "dense_73 (Dense)             (None, 512)               262656    \n",
      "_________________________________________________________________\n",
      "dense_74 (Dense)             (None, 256)               131328    \n",
      "_________________________________________________________________\n",
      "dense_75 (Dense)             (None, 128)               32896     \n",
      "_________________________________________________________________\n",
      "batch_normalization_21 (Batc (None, 128)               512       \n",
      "_________________________________________________________________\n",
      "dropout_10 (Dropout)         (None, 128)               0         \n",
      "_________________________________________________________________\n",
      "dense_76 (Dense)             (None, 3)                 387       \n",
      "=================================================================\n",
      "Total params: 595,331\n",
      "Trainable params: 594,051\n",
      "Non-trainable params: 1,280\n",
      "_________________________________________________________________\n",
      "None\n"
     ]
    }
   ],
   "source": [
    "model = create_model()\n",
    "print(model.summary())"
   ]
  },
  {
   "cell_type": "markdown",
   "metadata": {},
   "source": [
    "## Modèle  avec le dataset de 6 variables"
   ]
  },
  {
   "cell_type": "code",
   "execution_count": 208,
   "metadata": {
    "scrolled": true
   },
   "outputs": [
    {
     "name": "stdout",
     "output_type": "stream",
     "text": [
      "Train on 9238 samples, validate on 2310 samples\n",
      "Epoch 1/40\n",
      "\n",
      "Epoch 00001: val_accuracy improved from -inf to 0.52900, saving model to model_Final_winner_V3.h5\n",
      "9238/9238 - 3s - loss: 1.0395 - accuracy: 0.4932 - val_loss: 0.9900 - val_accuracy: 0.5290\n",
      "Epoch 2/40\n",
      "\n",
      "Epoch 00002: val_accuracy improved from 0.52900 to 0.53333, saving model to model_Final_winner_V3.h5\n",
      "9238/9238 - 2s - loss: 1.0090 - accuracy: 0.5168 - val_loss: 0.9897 - val_accuracy: 0.5333\n",
      "Epoch 3/40\n",
      "\n",
      "Epoch 00003: val_accuracy did not improve from 0.53333\n",
      "9238/9238 - 2s - loss: 1.0042 - accuracy: 0.5187 - val_loss: 0.9971 - val_accuracy: 0.5294\n",
      "Epoch 4/40\n",
      "\n",
      "Epoch 00004: val_accuracy did not improve from 0.53333\n",
      "9238/9238 - 2s - loss: 1.0023 - accuracy: 0.5107 - val_loss: 1.0138 - val_accuracy: 0.5299\n",
      "Epoch 5/40\n",
      "\n",
      "Epoch 00005: val_accuracy did not improve from 0.53333\n",
      "9238/9238 - 2s - loss: 1.0048 - accuracy: 0.5150 - val_loss: 1.0076 - val_accuracy: 0.5286\n",
      "Epoch 6/40\n",
      "\n",
      "Epoch 00006: val_accuracy did not improve from 0.53333\n",
      "9238/9238 - 2s - loss: 0.9960 - accuracy: 0.5147 - val_loss: 1.0345 - val_accuracy: 0.4866\n",
      "Epoch 7/40\n",
      "\n",
      "Epoch 00007: val_accuracy did not improve from 0.53333\n",
      "9238/9238 - 3s - loss: 0.9950 - accuracy: 0.5221 - val_loss: 0.9788 - val_accuracy: 0.5307\n",
      "Epoch 8/40\n",
      "\n",
      "Epoch 00008: val_accuracy did not improve from 0.53333\n",
      "9238/9238 - 2s - loss: 0.9912 - accuracy: 0.5272 - val_loss: 0.9964 - val_accuracy: 0.5312\n",
      "Epoch 9/40\n",
      "\n",
      "Epoch 00009: val_accuracy did not improve from 0.53333\n",
      "9238/9238 - 2s - loss: 0.9901 - accuracy: 0.5248 - val_loss: 1.0168 - val_accuracy: 0.4874\n",
      "Epoch 10/40\n",
      "\n",
      "Epoch 00010: val_accuracy did not improve from 0.53333\n",
      "9238/9238 - 2s - loss: 0.9897 - accuracy: 0.5259 - val_loss: 0.9955 - val_accuracy: 0.5329\n",
      "Epoch 11/40\n",
      "\n",
      "Epoch 00011: val_accuracy did not improve from 0.53333\n",
      "9238/9238 - 3s - loss: 0.9861 - accuracy: 0.5265 - val_loss: 0.9848 - val_accuracy: 0.5277\n",
      "Epoch 12/40\n",
      "\n",
      "Epoch 00012: val_accuracy did not improve from 0.53333\n",
      "9238/9238 - 3s - loss: 0.9871 - accuracy: 0.5297 - val_loss: 0.9897 - val_accuracy: 0.5199\n",
      "Epoch 13/40\n",
      "\n",
      "Epoch 00013: val_accuracy did not improve from 0.53333\n",
      "9238/9238 - 2s - loss: 0.9874 - accuracy: 0.5278 - val_loss: 0.9978 - val_accuracy: 0.5333\n",
      "Epoch 14/40\n",
      "\n",
      "Epoch 00014: val_accuracy did not improve from 0.53333\n",
      "9238/9238 - 2s - loss: 0.9823 - accuracy: 0.5299 - val_loss: 0.9853 - val_accuracy: 0.5303\n",
      "Epoch 15/40\n",
      "\n",
      "Epoch 00015: val_accuracy did not improve from 0.53333\n",
      "9238/9238 - 2s - loss: 0.9834 - accuracy: 0.5276 - val_loss: 0.9987 - val_accuracy: 0.5312\n",
      "Epoch 16/40\n",
      "\n",
      "Epoch 00016: val_accuracy improved from 0.53333 to 0.53377, saving model to model_Final_winner_V3.h5\n",
      "9238/9238 - 2s - loss: 0.9881 - accuracy: 0.5296 - val_loss: 0.9838 - val_accuracy: 0.5338\n",
      "Epoch 17/40\n",
      "\n",
      "Epoch 00017: val_accuracy did not improve from 0.53377\n",
      "9238/9238 - 2s - loss: 0.9825 - accuracy: 0.5296 - val_loss: 0.9792 - val_accuracy: 0.5312\n",
      "Epoch 18/40\n",
      "\n",
      "Epoch 00018: val_accuracy improved from 0.53377 to 0.53506, saving model to model_Final_winner_V3.h5\n",
      "9238/9238 - 2s - loss: 0.9824 - accuracy: 0.5318 - val_loss: 0.9836 - val_accuracy: 0.5351\n",
      "Epoch 19/40\n",
      "\n",
      "Epoch 00019: val_accuracy did not improve from 0.53506\n",
      "9238/9238 - 2s - loss: 0.9848 - accuracy: 0.5249 - val_loss: 0.9895 - val_accuracy: 0.5320\n",
      "Epoch 20/40\n",
      "\n",
      "Epoch 00020: val_accuracy did not improve from 0.53506\n",
      "9238/9238 - 2s - loss: 0.9844 - accuracy: 0.5288 - val_loss: 0.9930 - val_accuracy: 0.5307\n",
      "Epoch 21/40\n",
      "\n",
      "Epoch 00021: val_accuracy did not improve from 0.53506\n",
      "9238/9238 - 2s - loss: 0.9835 - accuracy: 0.5303 - val_loss: 0.9844 - val_accuracy: 0.4887\n",
      "Epoch 22/40\n",
      "\n",
      "Epoch 00022: val_accuracy did not improve from 0.53506\n",
      "9238/9238 - 2s - loss: 0.9813 - accuracy: 0.5287 - val_loss: 0.9920 - val_accuracy: 0.4918\n",
      "Epoch 23/40\n",
      "\n",
      "Epoch 00023: val_accuracy did not improve from 0.53506\n",
      "9238/9238 - 2s - loss: 0.9853 - accuracy: 0.5284 - val_loss: 0.9846 - val_accuracy: 0.5338\n",
      "Epoch 24/40\n",
      "\n",
      "Epoch 00024: val_accuracy did not improve from 0.53506\n",
      "9238/9238 - 2s - loss: 0.9832 - accuracy: 0.5312 - val_loss: 0.9864 - val_accuracy: 0.5325\n",
      "Epoch 25/40\n",
      "\n",
      "Epoch 00025: val_accuracy did not improve from 0.53506\n",
      "9238/9238 - 2s - loss: 0.9829 - accuracy: 0.5291 - val_loss: 0.9848 - val_accuracy: 0.5329\n",
      "Epoch 26/40\n",
      "\n",
      "Epoch 00026: val_accuracy did not improve from 0.53506\n",
      "9238/9238 - 2s - loss: 0.9824 - accuracy: 0.5327 - val_loss: 0.9803 - val_accuracy: 0.5307\n",
      "Epoch 27/40\n",
      "\n",
      "Epoch 00027: val_accuracy did not improve from 0.53506\n",
      "9238/9238 - 2s - loss: 0.9809 - accuracy: 0.5336 - val_loss: 0.9776 - val_accuracy: 0.5312\n",
      "Epoch 28/40\n",
      "\n",
      "Epoch 00028: val_accuracy did not improve from 0.53506\n",
      "9238/9238 - 2s - loss: 0.9810 - accuracy: 0.5290 - val_loss: 0.9947 - val_accuracy: 0.5299\n",
      "Epoch 29/40\n",
      "\n",
      "Epoch 00029: val_accuracy did not improve from 0.53506\n",
      "9238/9238 - 2s - loss: 0.9812 - accuracy: 0.5314 - val_loss: 0.9822 - val_accuracy: 0.5260\n",
      "Epoch 30/40\n",
      "\n",
      "Epoch 00030: val_accuracy did not improve from 0.53506\n",
      "9238/9238 - 2s - loss: 0.9793 - accuracy: 0.5316 - val_loss: 0.9943 - val_accuracy: 0.5325\n",
      "Epoch 31/40\n",
      "\n",
      "Epoch 00031: val_accuracy did not improve from 0.53506\n",
      "9238/9238 - 2s - loss: 0.9797 - accuracy: 0.5291 - val_loss: 0.9839 - val_accuracy: 0.5346\n",
      "Epoch 32/40\n",
      "\n",
      "Epoch 00032: val_accuracy did not improve from 0.53506\n",
      "9238/9238 - 2s - loss: 0.9793 - accuracy: 0.5294 - val_loss: 0.9868 - val_accuracy: 0.5342\n",
      "Epoch 33/40\n",
      "\n",
      "Epoch 00033: val_accuracy did not improve from 0.53506\n",
      "9238/9238 - 2s - loss: 0.9786 - accuracy: 0.5309 - val_loss: 1.0093 - val_accuracy: 0.5251\n",
      "Epoch 34/40\n",
      "\n",
      "Epoch 00034: val_accuracy did not improve from 0.53506\n",
      "9238/9238 - 2s - loss: 0.9813 - accuracy: 0.5313 - val_loss: 0.9974 - val_accuracy: 0.5182\n",
      "Epoch 35/40\n",
      "\n",
      "Epoch 00035: val_accuracy did not improve from 0.53506\n",
      "9238/9238 - 2s - loss: 0.9823 - accuracy: 0.5301 - val_loss: 0.9821 - val_accuracy: 0.5299\n",
      "Epoch 36/40\n",
      "\n",
      "Epoch 00036: val_accuracy did not improve from 0.53506\n",
      "9238/9238 - 2s - loss: 0.9811 - accuracy: 0.5329 - val_loss: 0.9814 - val_accuracy: 0.5329\n",
      "Epoch 37/40\n",
      "\n",
      "Epoch 00037: val_accuracy did not improve from 0.53506\n",
      "9238/9238 - 2s - loss: 0.9795 - accuracy: 0.5347 - val_loss: 0.9820 - val_accuracy: 0.5325\n",
      "Epoch 38/40\n",
      "\n",
      "Epoch 00038: val_accuracy did not improve from 0.53506\n",
      "9238/9238 - 2s - loss: 0.9790 - accuracy: 0.5329 - val_loss: 0.9782 - val_accuracy: 0.5299\n",
      "Epoch 39/40\n",
      "\n",
      "Epoch 00039: val_accuracy did not improve from 0.53506\n",
      "9238/9238 - 2s - loss: 0.9797 - accuracy: 0.5353 - val_loss: 0.9789 - val_accuracy: 0.5329\n",
      "Epoch 40/40\n",
      "\n",
      "Epoch 00040: val_accuracy did not improve from 0.53506\n",
      "9238/9238 - 2s - loss: 0.9780 - accuracy: 0.5338 - val_loss: 0.9780 - val_accuracy: 0.5325\n"
     ]
    }
   ],
   "source": [
    "save = ModelCheckpoint('model_Final_winner_V3.h5', monitor = 'val_accuracy' , verbose = 1 , save_best_only = True)\n",
    "result2 = model.fit(x_train, y_train,epochs=40,verbose=2,validation_data=(x_test, y_test),\n",
    "                      callbacks=[save])"
   ]
  },
  {
   "cell_type": "markdown",
   "metadata": {},
   "source": [
    "### Graphique "
   ]
  },
  {
   "cell_type": "code",
   "execution_count": 209,
   "metadata": {},
   "outputs": [
    {
     "data": {
      "text/plain": [
       "Text(0, 0.5, 'Accuracy')"
      ]
     },
     "execution_count": 209,
     "metadata": {},
     "output_type": "execute_result"
    },
    {
     "data": {
      "image/png": "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\n",
      "text/plain": [
       "<Figure size 432x288 with 1 Axes>"
      ]
     },
     "metadata": {
      "needs_background": "light"
     },
     "output_type": "display_data"
    }
   ],
   "source": [
    "plt.plot(result2.history['accuracy'],label='Accuracy')#bleu\n",
    "plt.plot(result2.history['val_accuracy'],label='validation_Accuracy')#orange\n",
    "plt.xlabel('Epochs')\n",
    "plt.ylabel('Accuracy')"
   ]
  },
  {
   "cell_type": "markdown",
   "metadata": {},
   "source": [
    "## Modèle  avec le dataset complet"
   ]
  },
  {
   "cell_type": "code",
   "execution_count": 210,
   "metadata": {},
   "outputs": [],
   "source": [
    "# save = ModelCheckpoint('model_Final_winner2.h5', monitor = 'val_accuracy' , verbose = 1 , save_best_only = True)\n",
    "# result = model.fit(x_train, y_train,epochs=100,verbose=2,validation_data=(x_test, y_test),\n",
    "#                       callbacks=[save])"
   ]
  },
  {
   "cell_type": "code",
   "execution_count": 211,
   "metadata": {},
   "outputs": [],
   "source": [
    "# plt.plot(result.history['accuracy'],label='Accuracy')#bleu\n",
    "# plt.plot(result.history['val_accuracy'],label='validation_Accuracy')#orange\n",
    "# plt.xlabel('Epochs')\n",
    "# plt.ylabel('Accuracy')"
   ]
  },
  {
   "cell_type": "markdown",
   "metadata": {},
   "source": [
    "## Prédictions"
   ]
  },
  {
   "cell_type": "code",
<<<<<<< HEAD
<<<<<<< HEAD
   "execution_count": 11,
=======
   "execution_count": 212,
>>>>>>> 5874941485de1353c1b1242480cd3eb64d0cbc92
=======
   "execution_count": 225,
>>>>>>> 863ffaac2d585b606d8a962623752a1cce16fafb
   "metadata": {},
   "outputs": [],
   "source": [
    "unique = x_prediction.values\n",
    "results = []\n",
    "equal = []\n",
    "victory = []\n",
    "loss = []\n",
    "i = 0"
   ]
  },
  {
   "cell_type": "code",
<<<<<<< HEAD
<<<<<<< HEAD
   "execution_count": 12,
=======
   "execution_count": 213,
>>>>>>> 5874941485de1353c1b1242480cd3eb64d0cbc92
=======
   "execution_count": 226,
>>>>>>> 863ffaac2d585b606d8a962623752a1cce16fafb
   "metadata": {},
   "outputs": [
    {
     "data": {
      "text/plain": [
       "array(['2020-07-01', 'FINISHED', 'Real Betis Balompié', 'Villarreal CF',\n",
       "       273889, 90, 94, 8949, 5396, 1.34375, 1.59375, 1.625, 1.25],\n",
       "      dtype=object)"
      ]
     },
<<<<<<< HEAD
<<<<<<< HEAD
     "execution_count": 12,
=======
     "execution_count": 213,
>>>>>>> 5874941485de1353c1b1242480cd3eb64d0cbc92
=======
     "execution_count": 226,
>>>>>>> 863ffaac2d585b606d8a962623752a1cce16fafb
     "metadata": {},
     "output_type": "execute_result"
    }
   ],
   "source": [
    "unique[1]"
   ]
  },
  {
   "cell_type": "code",
<<<<<<< HEAD
<<<<<<< HEAD
   "execution_count": 13,
=======
   "execution_count": 214,
>>>>>>> 5874941485de1353c1b1242480cd3eb64d0cbc92
=======
   "execution_count": null,
>>>>>>> 863ffaac2d585b606d8a962623752a1cce16fafb
   "metadata": {},
   "outputs": [],
   "source": []
  },
  {
   "cell_type": "code",
<<<<<<< HEAD
<<<<<<< HEAD
   "execution_count": 15,
=======
   "execution_count": 227,
>>>>>>> 863ffaac2d585b606d8a962623752a1cce16fafb
   "metadata": {},
   "outputs": [],
   "source": [
    "model.load_weights(\"model_Final_winner_V3.h5\")"
   ]
  },
  {
   "cell_type": "code",
<<<<<<< HEAD
   "execution_count": 14,
=======
   "execution_count": 215,
>>>>>>> 5874941485de1353c1b1242480cd3eb64d0cbc92
=======
   "execution_count": 228,
>>>>>>> 863ffaac2d585b606d8a962623752a1cce16fafb
   "metadata": {},
   "outputs": [],
   "source": [
    "for i in unique:\n",
    "    predictions_final = model.predict(np.array([[i[7],i[8],i[9],i[10],i[11],i[12]]])) \n",
    "    egalite = round(predictions_final[0][0]*100,2)\n",
    "    victoire = round(predictions_final[0][1]*100,2)\n",
    "    perte = round(predictions_final[0][2]*100,2)\n",
    "    result = np.argmax(predictions_final)\n",
    "    results.append(result)\n",
    "    equal.append(egalite)\n",
    "    victory.append(victoire)\n",
    "    loss.append(perte)"
   ]
  },
  {
   "cell_type": "code",
<<<<<<< HEAD
<<<<<<< HEAD
   "execution_count": 14,
=======
   "execution_count": 216,
>>>>>>> 5874941485de1353c1b1242480cd3eb64d0cbc92
=======
   "execution_count": 229,
>>>>>>> 863ffaac2d585b606d8a962623752a1cce16fafb
   "metadata": {},
   "outputs": [
    {
     "data": {
      "text/html": [
       "<div>\n",
       "<style scoped>\n",
       "    .dataframe tbody tr th:only-of-type {\n",
       "        vertical-align: middle;\n",
       "    }\n",
       "\n",
       "    .dataframe tbody tr th {\n",
       "        vertical-align: top;\n",
       "    }\n",
       "\n",
       "    .dataframe thead th {\n",
       "        text-align: right;\n",
       "    }\n",
       "</style>\n",
       "<table border=\"1\" class=\"dataframe\">\n",
       "  <thead>\n",
       "    <tr style=\"text-align: right;\">\n",
       "      <th></th>\n",
       "      <th>date</th>\n",
       "      <th>status</th>\n",
       "      <th>id_HomeTeam</th>\n",
       "      <th>id_AwayTeam</th>\n",
       "      <th>id_match</th>\n",
       "      <th>homeTeam</th>\n",
       "      <th>AwayTeam</th>\n",
       "      <th>prediction_egalité</th>\n",
       "      <th>prediction_homeTeam_victory</th>\n",
       "      <th>prediction_awayTeam_victory</th>\n",
       "      <th>match_state</th>\n",
       "    </tr>\n",
       "  </thead>\n",
       "  <tbody>\n",
       "    <tr>\n",
<<<<<<< HEAD
<<<<<<< HEAD
       "      <th>1424</th>\n",
=======
       "      <td>1424</td>\n",
>>>>>>> 5874941485de1353c1b1242480cd3eb64d0cbc92
=======
       "      <td>1424</td>\n",
>>>>>>> 863ffaac2d585b606d8a962623752a1cce16fafb
       "      <td>2020-07-01</td>\n",
       "      <td>FINISHED</td>\n",
       "      <td>99</td>\n",
       "      <td>471</td>\n",
       "      <td>279508</td>\n",
       "      <td>ACF Fiorentina</td>\n",
       "      <td>US Sassuolo Calcio</td>\n",
<<<<<<< HEAD
<<<<<<< HEAD
       "      <td>31.85</td>\n",
       "      <td>40.38</td>\n",
       "      <td>27.77</td>\n",
       "      <td>1</td>\n",
       "    </tr>\n",
       "    <tr>\n",
       "      <th>1085</th>\n",
=======
       "      <td>26.90</td>\n",
       "      <td>43.49</td>\n",
       "      <td>29.61</td>\n",
       "      <td>1</td>\n",
       "    </tr>\n",
       "    <tr>\n",
       "      <td>1085</td>\n",
>>>>>>> 5874941485de1353c1b1242480cd3eb64d0cbc92
=======
       "      <td>26.90</td>\n",
       "      <td>43.49</td>\n",
       "      <td>29.61</td>\n",
       "      <td>1</td>\n",
       "    </tr>\n",
       "    <tr>\n",
       "      <td>1085</td>\n",
>>>>>>> 863ffaac2d585b606d8a962623752a1cce16fafb
       "      <td>2020-07-01</td>\n",
       "      <td>FINISHED</td>\n",
       "      <td>90</td>\n",
       "      <td>94</td>\n",
       "      <td>273889</td>\n",
       "      <td>Real Betis Balompié</td>\n",
       "      <td>Villarreal CF</td>\n",
<<<<<<< HEAD
<<<<<<< HEAD
       "      <td>16.22</td>\n",
       "      <td>74.51</td>\n",
       "      <td>9.28</td>\n",
       "      <td>1</td>\n",
       "    </tr>\n",
       "    <tr>\n",
       "      <th>1423</th>\n",
=======
       "      <td>25.16</td>\n",
       "      <td>57.87</td>\n",
       "      <td>16.97</td>\n",
       "      <td>1</td>\n",
       "    </tr>\n",
       "    <tr>\n",
       "      <td>1423</td>\n",
>>>>>>> 5874941485de1353c1b1242480cd3eb64d0cbc92
=======
       "      <td>25.16</td>\n",
       "      <td>57.87</td>\n",
       "      <td>16.97</td>\n",
       "      <td>1</td>\n",
       "    </tr>\n",
       "    <tr>\n",
       "      <td>1423</td>\n",
>>>>>>> 863ffaac2d585b606d8a962623752a1cce16fafb
       "      <td>2020-07-01</td>\n",
       "      <td>FINISHED</td>\n",
       "      <td>103</td>\n",
       "      <td>104</td>\n",
       "      <td>279512</td>\n",
       "      <td>Bologna FC 1909</td>\n",
       "      <td>Cagliari Calcio</td>\n",
<<<<<<< HEAD
<<<<<<< HEAD
       "      <td>25.41</td>\n",
       "      <td>53.87</td>\n",
       "      <td>20.72</td>\n",
=======
       "      <td>22.50</td>\n",
       "      <td>54.95</td>\n",
       "      <td>22.56</td>\n",
>>>>>>> 5874941485de1353c1b1242480cd3eb64d0cbc92
=======
       "      <td>22.50</td>\n",
       "      <td>54.95</td>\n",
       "      <td>22.56</td>\n",
>>>>>>> 863ffaac2d585b606d8a962623752a1cce16fafb
       "      <td>1</td>\n",
       "    </tr>\n",
       "    <tr>\n",
       "      <td>1983</td>\n",
       "      <td>2020-07-01</td>\n",
       "      <td>FINISHED</td>\n",
       "      <td>498</td>\n",
       "      <td>5533</td>\n",
       "      <td>274431</td>\n",
       "      <td>Sporting Clube de Portugal</td>\n",
       "      <td>Gil Vicente FC</td>\n",
       "      <td>21.52</td>\n",
       "      <td>64.16</td>\n",
       "      <td>14.33</td>\n",
       "      <td>1</td>\n",
       "    </tr>\n",
       "    <tr>\n",
<<<<<<< HEAD
<<<<<<< HEAD
       "      <th>1982</th>\n",
=======
       "      <td>1982</td>\n",
>>>>>>> 5874941485de1353c1b1242480cd3eb64d0cbc92
=======
       "      <td>1982</td>\n",
>>>>>>> 863ffaac2d585b606d8a962623752a1cce16fafb
       "      <td>2020-07-01</td>\n",
       "      <td>FINISHED</td>\n",
       "      <td>5568</td>\n",
       "      <td>1049</td>\n",
       "      <td>274433</td>\n",
       "      <td>Os Belenenses Futebol</td>\n",
       "      <td>CD Tondela</td>\n",
<<<<<<< HEAD
<<<<<<< HEAD
       "      <td>32.86</td>\n",
       "      <td>39.21</td>\n",
       "      <td>27.93</td>\n",
=======
       "      <td>27.32</td>\n",
       "      <td>45.57</td>\n",
       "      <td>27.11</td>\n",
>>>>>>> 5874941485de1353c1b1242480cd3eb64d0cbc92
=======
       "      <td>27.32</td>\n",
       "      <td>45.57</td>\n",
       "      <td>27.11</td>\n",
>>>>>>> 863ffaac2d585b606d8a962623752a1cce16fafb
       "      <td>1</td>\n",
       "    </tr>\n",
       "    <tr>\n",
       "      <td>...</td>\n",
       "      <td>...</td>\n",
       "      <td>...</td>\n",
       "      <td>...</td>\n",
       "      <td>...</td>\n",
       "      <td>...</td>\n",
       "      <td>...</td>\n",
       "      <td>...</td>\n",
       "      <td>...</td>\n",
       "      <td>...</td>\n",
       "      <td>...</td>\n",
       "      <td>...</td>\n",
       "    </tr>\n",
       "    <tr>\n",
       "      <td>2024</td>\n",
       "      <td>2020-07-26</td>\n",
       "      <td>SCHEDULED</td>\n",
       "      <td>1903</td>\n",
       "      <td>498</td>\n",
       "      <td>274477</td>\n",
       "      <td>Sport Lisboa e Benfica</td>\n",
       "      <td>Sporting Clube de Portugal</td>\n",
       "      <td>25.39</td>\n",
       "      <td>49.23</td>\n",
       "      <td>25.38</td>\n",
       "      <td>1</td>\n",
       "    </tr>\n",
       "    <tr>\n",
       "      <td>2025</td>\n",
       "      <td>2020-07-26</td>\n",
       "      <td>SCHEDULED</td>\n",
       "      <td>5620</td>\n",
       "      <td>5568</td>\n",
       "      <td>274478</td>\n",
       "      <td>Vitória FC</td>\n",
       "      <td>Os Belenenses Futebol</td>\n",
       "      <td>20.52</td>\n",
       "      <td>61.04</td>\n",
       "      <td>18.44</td>\n",
       "      <td>1</td>\n",
       "    </tr>\n",
       "    <tr>\n",
       "      <td>2026</td>\n",
       "      <td>2020-07-26</td>\n",
       "      <td>SCHEDULED</td>\n",
       "      <td>5530</td>\n",
       "      <td>5543</td>\n",
       "      <td>274479</td>\n",
       "      <td>CD Santa Clara</td>\n",
       "      <td>Vitória SC</td>\n",
       "      <td>26.57</td>\n",
       "      <td>43.21</td>\n",
       "      <td>30.23</td>\n",
       "      <td>1</td>\n",
       "    </tr>\n",
       "    <tr>\n",
       "      <td>2027</td>\n",
       "      <td>2020-07-26</td>\n",
       "      <td>SCHEDULED</td>\n",
       "      <td>5601</td>\n",
       "      <td>5544</td>\n",
       "      <td>274480</td>\n",
       "      <td>Portimonense SC</td>\n",
       "      <td>CD Aves</td>\n",
       "      <td>27.60</td>\n",
       "      <td>46.07</td>\n",
       "      <td>26.33</td>\n",
       "      <td>1</td>\n",
       "    </tr>\n",
       "    <tr>\n",
       "      <td>2028</td>\n",
       "      <td>2020-07-26</td>\n",
       "      <td>SCHEDULED</td>\n",
       "      <td>810</td>\n",
       "      <td>496</td>\n",
       "      <td>274481</td>\n",
       "      <td>Boavista FC</td>\n",
       "      <td>Rio Ave FC</td>\n",
       "      <td>23.14</td>\n",
       "      <td>54.23</td>\n",
       "      <td>22.63</td>\n",
       "      <td>1</td>\n",
       "    </tr>\n",
       "  </tbody>\n",
       "</table>\n",
       "<p>264 rows × 11 columns</p>\n",
       "</div>"
      ],
      "text/plain": [
       "            date     status  id_HomeTeam  id_AwayTeam  id_match  \\\n",
       "1424  2020-07-01   FINISHED           99          471    279508   \n",
       "1085  2020-07-01   FINISHED           90           94    273889   \n",
       "1423  2020-07-01   FINISHED          103          104    279512   \n",
       "1983  2020-07-01   FINISHED          498         5533    274431   \n",
       "1982  2020-07-01   FINISHED         5568         1049    274433   \n",
       "...          ...        ...          ...          ...       ...   \n",
       "2024  2020-07-26  SCHEDULED         1903          498    274477   \n",
       "2025  2020-07-26  SCHEDULED         5620         5568    274478   \n",
       "2026  2020-07-26  SCHEDULED         5530         5543    274479   \n",
       "2027  2020-07-26  SCHEDULED         5601         5544    274480   \n",
       "2028  2020-07-26  SCHEDULED          810          496    274481   \n",
       "\n",
       "                        homeTeam                    AwayTeam  \\\n",
       "1424              ACF Fiorentina          US Sassuolo Calcio   \n",
       "1085         Real Betis Balompié               Villarreal CF   \n",
       "1423             Bologna FC 1909             Cagliari Calcio   \n",
       "1983  Sporting Clube de Portugal              Gil Vicente FC   \n",
       "1982       Os Belenenses Futebol                  CD Tondela   \n",
       "...                          ...                         ...   \n",
       "2024      Sport Lisboa e Benfica  Sporting Clube de Portugal   \n",
       "2025                  Vitória FC       Os Belenenses Futebol   \n",
       "2026              CD Santa Clara                  Vitória SC   \n",
       "2027             Portimonense SC                     CD Aves   \n",
       "2028                 Boavista FC                  Rio Ave FC   \n",
       "\n",
       "      prediction_egalité  prediction_homeTeam_victory  \\\n",
<<<<<<< HEAD
<<<<<<< HEAD
       "1424               31.85                        40.38   \n",
       "1085               16.22                        74.51   \n",
       "1423               25.41                        53.87   \n",
       "1983               14.81                        76.72   \n",
       "1982               32.86                        39.21   \n",
=======
=======
>>>>>>> 863ffaac2d585b606d8a962623752a1cce16fafb
       "1424               26.90                        43.49   \n",
       "1085               25.16                        57.87   \n",
       "1423               22.50                        54.95   \n",
       "1983               21.52                        64.16   \n",
       "1982               27.32                        45.57   \n",
<<<<<<< HEAD
>>>>>>> 5874941485de1353c1b1242480cd3eb64d0cbc92
=======
>>>>>>> 863ffaac2d585b606d8a962623752a1cce16fafb
       "...                  ...                          ...   \n",
       "2024               25.39                        49.23   \n",
       "2025               20.52                        61.04   \n",
       "2026               26.57                        43.21   \n",
       "2027               27.60                        46.07   \n",
       "2028               23.14                        54.23   \n",
       "\n",
       "      prediction_awayTeam_victory  match_state  \n",
<<<<<<< HEAD
<<<<<<< HEAD
       "1424                        27.77            1  \n",
       "1085                         9.28            1  \n",
       "1423                        20.72            1  \n",
       "1983                         8.48            1  \n",
       "1982                        27.93            1  \n",
=======
=======
>>>>>>> 863ffaac2d585b606d8a962623752a1cce16fafb
       "1424                        29.61            1  \n",
       "1085                        16.97            1  \n",
       "1423                        22.56            1  \n",
       "1983                        14.33            1  \n",
       "1982                        27.11            1  \n",
<<<<<<< HEAD
>>>>>>> 5874941485de1353c1b1242480cd3eb64d0cbc92
=======
>>>>>>> 863ffaac2d585b606d8a962623752a1cce16fafb
       "...                           ...          ...  \n",
       "2024                        25.38            1  \n",
       "2025                        18.44            1  \n",
       "2026                        30.23            1  \n",
       "2027                        26.33            1  \n",
       "2028                        22.63            1  \n",
       "\n",
       "[264 rows x 11 columns]"
      ]
     },
<<<<<<< HEAD
<<<<<<< HEAD
     "execution_count": 14,
=======
     "execution_count": 216,
>>>>>>> 5874941485de1353c1b1242480cd3eb64d0cbc92
=======
     "execution_count": 229,
>>>>>>> 863ffaac2d585b606d8a962623752a1cce16fafb
     "metadata": {},
     "output_type": "execute_result"
    }
   ],
   "source": [
    "df4 = {'date':x_prediction.date,'status':x_prediction.status,'id_HomeTeam':x_prediction.idHomeTeam,\n",
    "       'id_AwayTeam':x_prediction.idAwayTeam,'id_match':x_prediction.id_match,\n",
    "       'homeTeam':x_prediction.homeTeam,'AwayTeam':x_prediction.awayTeam,'prediction_egalité':equal,\n",
    "      'prediction_homeTeam_victory':victory,'prediction_awayTeam_victory':loss,'match_state':results}\n",
    "df4 = pd.DataFrame(df4)\n",
    "df4"
   ]
  },
  {
   "cell_type": "code",
<<<<<<< HEAD
<<<<<<< HEAD
   "execution_count": 15,
=======
   "execution_count": 217,
>>>>>>> 5874941485de1353c1b1242480cd3eb64d0cbc92
=======
   "execution_count": 217,
>>>>>>> 863ffaac2d585b606d8a962623752a1cce16fafb
   "metadata": {},
   "outputs": [],
   "source": [
    "finished = []\n",
    "scheduled = []\n",
    "\n",
    "for i in df4.values:\n",
    "    if i[1] == 'FINISHED':\n",
    "        finished.append(i)\n",
    "    else:\n",
    "        scheduled.append(i)"
   ]
  },
  {
   "cell_type": "code",
<<<<<<< HEAD
<<<<<<< HEAD
   "execution_count": 16,
=======
   "execution_count": 218,
>>>>>>> 5874941485de1353c1b1242480cd3eb64d0cbc92
=======
   "execution_count": 218,
>>>>>>> 863ffaac2d585b606d8a962623752a1cce16fafb
   "metadata": {},
   "outputs": [],
   "source": [
    "column_names = [\"date\", \"status\", \"idHomeTeam\",\"idAwayTeam\",\"id_match\",\"homeTeam\",\"AwayTeam\",\"prediction_egalite\",\"prediction_homeTeam_victory\",\"prediction_awayTeam_victory\",\"match_state\"]\n",
    "df_fini = pd.DataFrame(finished,columns = column_names)\n",
    "df_programme = pd.DataFrame(scheduled,columns = column_names)"
   ]
  },
  {
   "cell_type": "code",
<<<<<<< HEAD
<<<<<<< HEAD
   "execution_count": 17,
=======
   "execution_count": 219,
   "metadata": {},
   "outputs": [],
   "source": [
    "df_fini=df_fini.sort_values(by = 'date',ascending=False)\n",
    "df_programme=df_programme.sort_values(by = 'date',ascending=False)"
   ]
  },
  {
   "cell_type": "code",
   "execution_count": 220,
>>>>>>> 5874941485de1353c1b1242480cd3eb64d0cbc92
   "metadata": {},
   "outputs": [],
   "source": [
=======
   "execution_count": 219,
   "metadata": {},
   "outputs": [],
   "source": [
    "df_fini=df_fini.sort_values(by = 'date',ascending=False)\n",
    "df_programme=df_programme.sort_values(by = 'date',ascending=False)"
   ]
  },
  {
   "cell_type": "code",
   "execution_count": 220,
   "metadata": {},
   "outputs": [],
   "source": [
>>>>>>> 863ffaac2d585b606d8a962623752a1cce16fafb
    "df_fini.to_csv('C:\\\\Users\\\\Amrta\\\\Documents\\\\GitHub\\\\projetannuel4IABD2\\\\ETAPE_3\\\\predict_win_lose\\\\predictions_gain_perte_finished.csv',index=False)\n",
    "df_fini.to_json (r'C:\\\\Users\\\\Amrta\\\\Documents\\\\GitHub\\\\projetannuel4IABD2\\\\ETAPE_3\\\\predict_win_lose\\\\predictions_gain_perte_finished.json')\n",
    "\n",
    "df_programme.to_csv('C:\\\\Users\\\\Amrta\\\\Documents\\\\GitHub\\\\projetannuel4IABD2\\\\ETAPE_3\\\\predict_win_lose\\\\predictions_gain_perte_scheduled.csv',index=False)\n",
    "df_programme.to_json (r'C:\\\\Users\\\\Amrta\\\\Documents\\\\GitHub\\\\projetannuel4IABD2\\\\ETAPE_3\\\\predict_win_lose\\\\predictions_gain_perte_scheduled.json')"
   ]
  },
  {
   "cell_type": "code",
   "execution_count": null,
   "metadata": {},
   "outputs": [],
   "source": []
  },
  {
   "cell_type": "code",
   "execution_count": null,
   "metadata": {},
   "outputs": [],
   "source": []
  }
 ],
 "metadata": {
  "kernelspec": {
   "display_name": "Python 3",
   "language": "python",
   "name": "python3"
  },
  "language_info": {
   "codemirror_mode": {
    "name": "ipython",
    "version": 3
   },
   "file_extension": ".py",
   "mimetype": "text/x-python",
   "name": "python",
   "nbconvert_exporter": "python",
   "pygments_lexer": "ipython3",
   "version": "3.7.4"
  }
 },
 "nbformat": 4,
 "nbformat_minor": 2
}
